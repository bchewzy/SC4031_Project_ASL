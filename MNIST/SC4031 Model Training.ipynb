{
 "cells": [
  {
   "cell_type": "markdown",
   "id": "3ffe08aa-3a0c-4b61-bebf-267d0946190c",
   "metadata": {},
   "source": [
    "# Import Libraries"
   ]
  },
  {
   "cell_type": "code",
   "execution_count": 2,
   "id": "cb64ae8b-1ae5-441a-b801-ee454b11f9cb",
   "metadata": {},
   "outputs": [],
   "source": [
    "import os\n",
    "import numpy as np\n",
    "import pandas as pd\n",
    "import time\n",
    "\n",
    "import matplotlib.pyplot as plt\n",
    "\n",
    "from sklearn.preprocessing import LabelBinarizer\n",
    "from keras.preprocessing.image import ImageDataGenerator\n",
    "from keras.models import Sequential, load_model, Model\n",
    "from keras.layers import Dense, Conv2D, MaxPool2D, Flatten, Dropout, BatchNormalization\n",
    "from keras.callbacks import ReduceLROnPlateau\n",
    "\n",
    "import cv2\n",
    "import mediapipe as mp"
   ]
  },
  {
   "cell_type": "markdown",
   "id": "38faecf3-8290-4279-a467-c9ea66ae5872",
   "metadata": {},
   "source": [
    "# Define Dataset Directories"
   ]
  },
  {
   "cell_type": "code",
   "execution_count": 3,
   "id": "7696d2ea-f565-40e2-a448-c56399d1ef23",
   "metadata": {},
   "outputs": [],
   "source": [
    "TRAIN_DIR = \"./output/train/\"\n",
    "TEST_DIR = \"./output/test/\"\n",
    "IMG_SIZE = 48"
   ]
  },
  {
   "cell_type": "markdown",
   "id": "789001dc-7ed0-4a4f-8644-97784d8c5f75",
   "metadata": {},
   "source": [
    "# Image Augmentation"
   ]
  },
  {
   "cell_type": "code",
   "execution_count": 4,
   "id": "d9d4b1ae-8da4-4657-9a68-3eae6abf147d",
   "metadata": {},
   "outputs": [
    {
     "name": "stdout",
     "output_type": "stream",
     "text": [
      "Found 28869 images belonging to 24 classes.\n",
      "Found 1967 images belonging to 24 classes.\n"
     ]
    }
   ],
   "source": [
    "train_datagen = ImageDataGenerator(rescale=1./255,\n",
    "                                   rotation_range=3,\n",
    "                                   horizontal_flip=True,\n",
    "                                   fill_mode='nearest')\n",
    "\n",
    "test_datagen = ImageDataGenerator(rescale=1./255)\n",
    "\n",
    "batch_size = 128\n",
    "\n",
    "train_gen = train_datagen.flow_from_directory(\n",
    "    TRAIN_DIR,\n",
    "    target_size=(48, 48),\n",
    "    batch_size=batch_size,\n",
    "    class_mode='categorical',\n",
    "    color_mode='grayscale'\n",
    ")\n",
    "\n",
    "test_gen = test_datagen.flow_from_directory(\n",
    "    TEST_DIR,\n",
    "    target_size=(48, 48),\n",
    "    batch_size=batch_size,\n",
    "    class_mode='categorical',\n",
    "    color_mode='grayscale'\n",
    ")"
   ]
  },
  {
   "cell_type": "markdown",
   "id": "909fd29c-5eda-48ac-917f-3b4a55647621",
   "metadata": {},
   "source": [
    "# Get available labels/alphabets"
   ]
  },
  {
   "cell_type": "code",
   "execution_count": 5,
   "id": "92829ea4-e51c-459f-9c8c-f024dfdc08b9",
   "metadata": {},
   "outputs": [
    {
     "name": "stdout",
     "output_type": "stream",
     "text": [
      "['A', 'B', 'C', 'D', 'E', 'F', 'G', 'H', 'I', 'K', 'L', 'M', 'N', 'O', 'P', 'Q', 'R', 'S', 'T', 'U', 'V', 'W', 'X', 'Y']\n"
     ]
    }
   ],
   "source": [
    "labels = list(train_gen.class_indices.keys())\n",
    "print(labels)"
   ]
  },
  {
   "cell_type": "markdown",
   "id": "eaa12aa7-0992-48b5-84fa-72da65eda565",
   "metadata": {},
   "source": [
    "# Create CNN Model & Layers"
   ]
  },
  {
   "cell_type": "code",
   "execution_count": 5,
   "id": "768e220d-504f-4b8e-b3b2-390665b77617",
   "metadata": {},
   "outputs": [
    {
     "name": "stdout",
     "output_type": "stream",
     "text": [
      "Model: \"sequential\"\n",
      "_________________________________________________________________\n",
      " Layer (type)                Output Shape              Param #   \n",
      "=================================================================\n",
      " conv2d (Conv2D)             (None, 48, 48, 128)       3328      \n",
      "                                                                 \n",
      " max_pooling2d (MaxPooling2  (None, 24, 24, 128)       0         \n",
      " D)                                                              \n",
      "                                                                 \n",
      " dropout (Dropout)           (None, 24, 24, 128)       0         \n",
      "                                                                 \n",
      " conv2d_1 (Conv2D)           (None, 24, 24, 64)        32832     \n",
      "                                                                 \n",
      " max_pooling2d_1 (MaxPoolin  (None, 12, 12, 64)        0         \n",
      " g2D)                                                            \n",
      "                                                                 \n",
      " dropout_1 (Dropout)         (None, 12, 12, 64)        0         \n",
      "                                                                 \n",
      " conv2d_2 (Conv2D)           (None, 12, 12, 32)        8224      \n",
      "                                                                 \n",
      " max_pooling2d_2 (MaxPoolin  (None, 6, 6, 32)          0         \n",
      " g2D)                                                            \n",
      "                                                                 \n",
      " dropout_2 (Dropout)         (None, 6, 6, 32)          0         \n",
      "                                                                 \n",
      " flatten (Flatten)           (None, 1152)              0         \n",
      "                                                                 \n",
      " dense (Dense)               (None, 512)               590336    \n",
      "                                                                 \n",
      " dropout_3 (Dropout)         (None, 512)               0         \n",
      "                                                                 \n",
      " dense_1 (Dense)             (None, 24)                12312     \n",
      "                                                                 \n",
      "=================================================================\n",
      "Total params: 647032 (2.47 MB)\n",
      "Trainable params: 647032 (2.47 MB)\n",
      "Non-trainable params: 0 (0.00 Byte)\n",
      "_________________________________________________________________\n"
     ]
    }
   ],
   "source": [
    "model2 = Sequential()\n",
    "model2.add(Conv2D(128, kernel_size=(5,5),\n",
    "                 strides=1, padding='same', activation='relu', input_shape=(48,48,1)))\n",
    "model2.add(MaxPool2D(pool_size=(4,4), strides=2, padding='same'))\n",
    "model2.add(Dropout(0.4))\n",
    "\n",
    "model2.add(Conv2D(64, kernel_size=(2,2),\n",
    "                 strides=1, activation='relu', padding='same'))\n",
    "model2.add(MaxPool2D((4,4), 2, padding='same'))\n",
    "model2.add(Dropout(0.4))\n",
    "\n",
    "model2.add(Conv2D(32, kernel_size=(2,2),\n",
    "                 strides=1, activation='relu', padding='same'))\n",
    "model2.add(MaxPool2D((4,4), 2, padding='same'))\n",
    "model2.add(Dropout(0.4))\n",
    "          \n",
    "model2.add(Flatten())\n",
    "model2.add(Dense(units=512,activation='relu'))\n",
    "model2.add(Dropout(rate=0.25))\n",
    "model2.add(Dense(units=24,activation='softmax'))\n",
    "model2.summary()\n",
    "\n",
    "model2.compile(optimizer = 'adam' , loss = 'categorical_crossentropy' , metrics = ['accuracy'])"
   ]
  },
  {
   "cell_type": "markdown",
   "id": "2737bbe8-02c6-4f09-b04e-0234b14f2e05",
   "metadata": {},
   "source": [
    "# Model Fit"
   ]
  },
  {
   "cell_type": "code",
   "execution_count": 80,
   "id": "ce3f464c-ee5a-44f9-8cff-b8562cfea04d",
   "metadata": {},
   "outputs": [
    {
     "name": "stdout",
     "output_type": "stream",
     "text": [
      "Epoch 1/20\n",
      "225/225 [==============================] - 274s 1s/step - loss: 1.9754 - accuracy: 0.3655 - val_loss: 0.8952 - val_accuracy: 0.7510 - lr: 0.0010\n",
      "Epoch 2/20\n",
      "225/225 [==============================] - 142s 632ms/step - loss: 0.7305 - accuracy: 0.7333 - val_loss: 0.6914 - val_accuracy: 0.7937 - lr: 0.0010\n",
      "Epoch 3/20\n",
      "225/225 [==============================] - 149s 663ms/step - loss: 0.4406 - accuracy: 0.8420 - val_loss: 0.7170 - val_accuracy: 0.7906 - lr: 0.0010\n",
      "Epoch 4/20\n",
      "225/225 [==============================] - 147s 651ms/step - loss: 0.3152 - accuracy: 0.8880 - val_loss: 0.6842 - val_accuracy: 0.8177 - lr: 0.0010\n",
      "Epoch 5/20\n",
      "225/225 [==============================] - 154s 682ms/step - loss: 0.2255 - accuracy: 0.9203 - val_loss: 0.6232 - val_accuracy: 0.7969 - lr: 0.0010\n",
      "Epoch 6/20\n",
      "225/225 [==============================] - ETA: 0s - loss: 0.1934 - accuracy: 0.9320\n",
      "Epoch 6: ReduceLROnPlateau reducing learning rate to 0.0005000000237487257.\n",
      "225/225 [==============================] - 162s 718ms/step - loss: 0.1934 - accuracy: 0.9320 - val_loss: 0.6418 - val_accuracy: 0.8172 - lr: 0.0010\n",
      "Epoch 7/20\n",
      "225/225 [==============================] - 163s 723ms/step - loss: 0.1457 - accuracy: 0.9479 - val_loss: 0.5528 - val_accuracy: 0.8516 - lr: 5.0000e-04\n",
      "Epoch 8/20\n",
      "225/225 [==============================] - 149s 661ms/step - loss: 0.1216 - accuracy: 0.9581 - val_loss: 0.5924 - val_accuracy: 0.8464 - lr: 5.0000e-04\n",
      "Epoch 9/20\n",
      "225/225 [==============================] - 140s 621ms/step - loss: 0.1156 - accuracy: 0.9599 - val_loss: 0.4552 - val_accuracy: 0.8667 - lr: 5.0000e-04\n",
      "Epoch 10/20\n",
      "225/225 [==============================] - 130s 576ms/step - loss: 0.1058 - accuracy: 0.9628 - val_loss: 0.5258 - val_accuracy: 0.8641 - lr: 5.0000e-04\n",
      "Epoch 11/20\n",
      "225/225 [==============================] - ETA: 0s - loss: 0.0970 - accuracy: 0.9663\n",
      "Epoch 11: ReduceLROnPlateau reducing learning rate to 0.0002500000118743628.\n",
      "225/225 [==============================] - 133s 588ms/step - loss: 0.0970 - accuracy: 0.9663 - val_loss: 0.6298 - val_accuracy: 0.8318 - lr: 5.0000e-04\n",
      "Epoch 12/20\n",
      "225/225 [==============================] - 132s 586ms/step - loss: 0.0762 - accuracy: 0.9744 - val_loss: 0.6254 - val_accuracy: 0.8443 - lr: 2.5000e-04\n",
      "Epoch 13/20\n",
      "225/225 [==============================] - ETA: 0s - loss: 0.0768 - accuracy: 0.9725\n",
      "Epoch 13: ReduceLROnPlateau reducing learning rate to 0.0001250000059371814.\n",
      "225/225 [==============================] - 133s 591ms/step - loss: 0.0768 - accuracy: 0.9725 - val_loss: 0.5663 - val_accuracy: 0.8615 - lr: 2.5000e-04\n",
      "Epoch 14/20\n",
      "225/225 [==============================] - 144s 637ms/step - loss: 0.0677 - accuracy: 0.9766 - val_loss: 0.5847 - val_accuracy: 0.8646 - lr: 1.2500e-04\n",
      "Epoch 15/20\n",
      "225/225 [==============================] - ETA: 0s - loss: 0.0654 - accuracy: 0.9775\n",
      "Epoch 15: ReduceLROnPlateau reducing learning rate to 6.25000029685907e-05.\n",
      "225/225 [==============================] - 145s 645ms/step - loss: 0.0654 - accuracy: 0.9775 - val_loss: 0.6021 - val_accuracy: 0.8557 - lr: 1.2500e-04\n",
      "Epoch 16/20\n",
      "225/225 [==============================] - 150s 667ms/step - loss: 0.0618 - accuracy: 0.9790 - val_loss: 0.6270 - val_accuracy: 0.8536 - lr: 6.2500e-05\n",
      "Epoch 17/20\n",
      "225/225 [==============================] - ETA: 0s - loss: 0.0641 - accuracy: 0.9781\n",
      "Epoch 17: ReduceLROnPlateau reducing learning rate to 3.125000148429535e-05.\n",
      "225/225 [==============================] - 144s 637ms/step - loss: 0.0641 - accuracy: 0.9781 - val_loss: 0.5816 - val_accuracy: 0.8573 - lr: 6.2500e-05\n",
      "Epoch 18/20\n",
      "225/225 [==============================] - 142s 630ms/step - loss: 0.0624 - accuracy: 0.9798 - val_loss: 0.6122 - val_accuracy: 0.8526 - lr: 3.1250e-05\n",
      "Epoch 19/20\n",
      "225/225 [==============================] - ETA: 0s - loss: 0.0603 - accuracy: 0.9793\n",
      "Epoch 19: ReduceLROnPlateau reducing learning rate to 1.5625000742147677e-05.\n",
      "225/225 [==============================] - 142s 632ms/step - loss: 0.0603 - accuracy: 0.9793 - val_loss: 0.6147 - val_accuracy: 0.8547 - lr: 3.1250e-05\n",
      "Epoch 20/20\n",
      "225/225 [==============================] - 154s 684ms/step - loss: 0.0580 - accuracy: 0.9794 - val_loss: 0.5976 - val_accuracy: 0.8583 - lr: 1.5625e-05\n"
     ]
    },
    {
     "data": {
      "text/plain": [
       "<keras.src.callbacks.History at 0x156d8a91880>"
      ]
     },
     "execution_count": 80,
     "metadata": {},
     "output_type": "execute_result"
    }
   ],
   "source": [
    "learning_rate_reduction = ReduceLROnPlateau(monitor='val_accuracy', patience = 2, verbose=1,factor=0.5, min_lr=0.00001)\n",
    "\n",
    "model2.fit(\n",
    "    train_gen,\n",
    "    steps_per_epoch=train_gen.samples // batch_size,\n",
    "    epochs=20,\n",
    "    validation_data=test_gen,\n",
    "    validation_steps=test_gen.samples // batch_size,\n",
    "    callbacks = [learning_rate_reduction]\n",
    ")"
   ]
  },
  {
   "cell_type": "code",
   "execution_count": 81,
   "id": "567479eb-e694-4240-a6b4-1039456ae8c7",
   "metadata": {},
   "outputs": [],
   "source": [
    "model2.save(\"./output/model_all_alpha_85.h5\")"
   ]
  },
  {
   "cell_type": "code",
   "execution_count": 3,
   "id": "2e430875-67f0-4880-9b7e-bc085c5530c7",
   "metadata": {},
   "outputs": [],
   "source": [
    "model2 = load_model(\"./models/model_all_alpha_85.h5\")"
   ]
  },
  {
   "cell_type": "code",
   "execution_count": 4,
   "id": "067a4b81-2ae7-4ae7-9e31-1d2927342f0f",
   "metadata": {},
   "outputs": [
    {
     "name": "stdout",
     "output_type": "stream",
     "text": [
      "Model: \"sequential_17\"\n",
      "_________________________________________________________________\n",
      " Layer (type)                Output Shape              Param #   \n",
      "=================================================================\n",
      " conv2d_56 (Conv2D)          (None, 48, 48, 128)       3328      \n",
      "                                                                 \n",
      " max_pooling2d_55 (MaxPooli  (None, 24, 24, 128)       0         \n",
      " ng2D)                                                           \n",
      "                                                                 \n",
      " dropout_81 (Dropout)        (None, 24, 24, 128)       0         \n",
      "                                                                 \n",
      " conv2d_57 (Conv2D)          (None, 24, 24, 64)        32832     \n",
      "                                                                 \n",
      " max_pooling2d_56 (MaxPooli  (None, 12, 12, 64)        0         \n",
      " ng2D)                                                           \n",
      "                                                                 \n",
      " dropout_82 (Dropout)        (None, 12, 12, 64)        0         \n",
      "                                                                 \n",
      " conv2d_58 (Conv2D)          (None, 12, 12, 32)        8224      \n",
      "                                                                 \n",
      " max_pooling2d_57 (MaxPooli  (None, 6, 6, 32)          0         \n",
      " ng2D)                                                           \n",
      "                                                                 \n",
      " dropout_83 (Dropout)        (None, 6, 6, 32)          0         \n",
      "                                                                 \n",
      " flatten_16 (Flatten)        (None, 1152)              0         \n",
      "                                                                 \n",
      " dense_60 (Dense)            (None, 512)               590336    \n",
      "                                                                 \n",
      " dropout_84 (Dropout)        (None, 512)               0         \n",
      "                                                                 \n",
      " dense_61 (Dense)            (None, 24)                12312     \n",
      "                                                                 \n",
      "=================================================================\n",
      "Total params: 647032 (2.47 MB)\n",
      "Trainable params: 647032 (2.47 MB)\n",
      "Non-trainable params: 0 (0.00 Byte)\n",
      "_________________________________________________________________\n"
     ]
    }
   ],
   "source": [
    "model2.summary()"
   ]
  },
  {
   "cell_type": "markdown",
   "id": "35216949-9f5c-45e7-8333-ab92a3939069",
   "metadata": {},
   "source": [
    "# Second Round Training Attempt"
   ]
  },
  {
   "cell_type": "code",
   "execution_count": 27,
   "id": "a1783bb4-abfe-4c5b-8975-de79dfe0829b",
   "metadata": {},
   "outputs": [
    {
     "name": "stdout",
     "output_type": "stream",
     "text": [
      "Epoch 1/20\n",
      "17/17 [==============================] - 14s 780ms/step - loss: 8.8690 - accuracy: 0.2693 - val_loss: 0.6058 - val_accuracy: 0.8568 - lr: 0.0010\n",
      "Epoch 2/20\n",
      "17/17 [==============================] - 11s 661ms/step - loss: 8.8694 - accuracy: 0.2488 - val_loss: 0.5999 - val_accuracy: 0.8568 - lr: 0.0010\n",
      "Epoch 3/20\n",
      "17/17 [==============================] - 11s 664ms/step - loss: 8.8936 - accuracy: 0.2697 - val_loss: 0.6042 - val_accuracy: 0.8573 - lr: 0.0010\n",
      "Epoch 4/20\n",
      "17/17 [==============================] - 11s 677ms/step - loss: 9.0334 - accuracy: 0.2633 - val_loss: 0.5950 - val_accuracy: 0.8583 - lr: 0.0010\n",
      "Epoch 5/20\n",
      "17/17 [==============================] - 11s 663ms/step - loss: 8.9902 - accuracy: 0.2564 - val_loss: 0.6097 - val_accuracy: 0.8562 - lr: 0.0010\n",
      "Epoch 6/20\n",
      "17/17 [==============================] - ETA: 0s - loss: 8.8401 - accuracy: 0.2774\n",
      "Epoch 6: ReduceLROnPlateau reducing learning rate to 0.0005000000237487257.\n",
      "17/17 [==============================] - 12s 702ms/step - loss: 8.8401 - accuracy: 0.2774 - val_loss: 0.6091 - val_accuracy: 0.8568 - lr: 0.0010\n",
      "Epoch 7/20\n",
      "17/17 [==============================] - 12s 721ms/step - loss: 8.8446 - accuracy: 0.2493 - val_loss: 0.6095 - val_accuracy: 0.8557 - lr: 5.0000e-04\n",
      "Epoch 8/20\n",
      "17/17 [==============================] - ETA: 0s - loss: 8.9275 - accuracy: 0.2540\n",
      "Epoch 8: ReduceLROnPlateau reducing learning rate to 0.0002500000118743628.\n",
      "17/17 [==============================] - 12s 737ms/step - loss: 8.9275 - accuracy: 0.2540 - val_loss: 0.5968 - val_accuracy: 0.8573 - lr: 5.0000e-04\n",
      "Epoch 9/20\n",
      "17/17 [==============================] - 12s 699ms/step - loss: 8.9666 - accuracy: 0.2626 - val_loss: 0.5951 - val_accuracy: 0.8583 - lr: 2.5000e-04\n",
      "Epoch 10/20\n",
      "17/17 [==============================] - ETA: 0s - loss: 8.7418 - accuracy: 0.2683\n",
      "Epoch 10: ReduceLROnPlateau reducing learning rate to 0.0001250000059371814.\n",
      "17/17 [==============================] - 12s 748ms/step - loss: 8.7418 - accuracy: 0.2683 - val_loss: 0.6071 - val_accuracy: 0.8562 - lr: 2.5000e-04\n",
      "Epoch 11/20\n",
      "17/17 [==============================] - 12s 699ms/step - loss: 8.8989 - accuracy: 0.2797 - val_loss: 0.6047 - val_accuracy: 0.8562 - lr: 1.2500e-04\n",
      "Epoch 12/20\n",
      "17/17 [==============================] - ETA: 0s - loss: 8.7333 - accuracy: 0.2655\n",
      "Epoch 12: ReduceLROnPlateau reducing learning rate to 6.25000029685907e-05.\n",
      "17/17 [==============================] - 11s 683ms/step - loss: 8.7333 - accuracy: 0.2655 - val_loss: 0.6059 - val_accuracy: 0.8552 - lr: 1.2500e-04\n",
      "Epoch 13/20\n",
      "17/17 [==============================] - 12s 690ms/step - loss: 8.7001 - accuracy: 0.2636 - val_loss: 0.6002 - val_accuracy: 0.8583 - lr: 6.2500e-05\n",
      "Epoch 14/20\n",
      "17/17 [==============================] - ETA: 0s - loss: 8.8350 - accuracy: 0.2674\n",
      "Epoch 14: ReduceLROnPlateau reducing learning rate to 3.125000148429535e-05.\n",
      "17/17 [==============================] - 11s 675ms/step - loss: 8.8350 - accuracy: 0.2674 - val_loss: 0.6131 - val_accuracy: 0.8552 - lr: 6.2500e-05\n",
      "Epoch 15/20\n",
      "17/17 [==============================] - 11s 674ms/step - loss: 8.9131 - accuracy: 0.2569 - val_loss: 0.6104 - val_accuracy: 0.8552 - lr: 3.1250e-05\n",
      "Epoch 16/20\n",
      "17/17 [==============================] - ETA: 0s - loss: 8.7798 - accuracy: 0.2583\n",
      "Epoch 16: ReduceLROnPlateau reducing learning rate to 1.5625000742147677e-05.\n",
      "17/17 [==============================] - 11s 674ms/step - loss: 8.7798 - accuracy: 0.2583 - val_loss: 0.6090 - val_accuracy: 0.8562 - lr: 3.1250e-05\n",
      "Epoch 17/20\n",
      "17/17 [==============================] - 12s 699ms/step - loss: 9.0750 - accuracy: 0.2624 - val_loss: 0.6042 - val_accuracy: 0.8552 - lr: 1.5625e-05\n",
      "Epoch 18/20\n",
      "17/17 [==============================] - ETA: 0s - loss: 8.8136 - accuracy: 0.2559\n",
      "Epoch 18: ReduceLROnPlateau reducing learning rate to 1e-05.\n",
      "17/17 [==============================] - 11s 680ms/step - loss: 8.8136 - accuracy: 0.2559 - val_loss: 0.6069 - val_accuracy: 0.8562 - lr: 1.5625e-05\n",
      "Epoch 19/20\n",
      "17/17 [==============================] - 11s 675ms/step - loss: 8.9833 - accuracy: 0.2640 - val_loss: 0.5999 - val_accuracy: 0.8568 - lr: 1.0000e-05\n",
      "Epoch 20/20\n",
      "17/17 [==============================] - 11s 684ms/step - loss: 8.9629 - accuracy: 0.2650 - val_loss: 0.6099 - val_accuracy: 0.8552 - lr: 1.0000e-05\n"
     ]
    },
    {
     "data": {
      "text/plain": [
       "<keras.src.callbacks.History at 0x2abedd0e6d0>"
      ]
     },
     "execution_count": 27,
     "metadata": {},
     "output_type": "execute_result"
    }
   ],
   "source": [
    "model2 = load_model(\"./models/model_all_alpha_85.h5\")\n",
    "\n",
    "# Freeze all layers in the model\n",
    "for layer in model2.layers:\n",
    "    layer.trainable = False\n",
    "\n",
    "# Recompile\n",
    "model2.compile(optimizer = 'adam' , loss = 'categorical_crossentropy' , metrics = ['accuracy'])\n",
    "\n",
    "learning_rate_reduction = ReduceLROnPlateau(monitor='val_accuracy', patience = 2, verbose=1,factor=0.5, min_lr=0.00001)\n",
    "\n",
    "model2.fit(\n",
    "    train_gen,\n",
    "    steps_per_epoch=train_gen.samples // batch_size,\n",
    "    epochs=20,\n",
    "    validation_data=test_gen,\n",
    "    validation_steps=test_gen.samples // batch_size,\n",
    "    callbacks = [learning_rate_reduction]\n",
    ")"
   ]
  },
  {
   "cell_type": "code",
   "execution_count": 28,
   "id": "a576d30a-b58a-4599-9272-54ec53f98669",
   "metadata": {},
   "outputs": [],
   "source": [
    "model2.save(\"./models/test.h5\")"
   ]
  }
 ],
 "metadata": {
  "kernelspec": {
   "display_name": "Python 3 (ipykernel)",
   "language": "python",
   "name": "python3"
  },
  "language_info": {
   "codemirror_mode": {
    "name": "ipython",
    "version": 3
   },
   "file_extension": ".py",
   "mimetype": "text/x-python",
   "name": "python",
   "nbconvert_exporter": "python",
   "pygments_lexer": "ipython3",
   "version": "3.8.19"
  }
 },
 "nbformat": 4,
 "nbformat_minor": 5
}
