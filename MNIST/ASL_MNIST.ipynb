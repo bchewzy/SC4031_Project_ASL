{
 "cells": [
  {
   "cell_type": "markdown",
   "id": "5196a066-44aa-40be-9220-757a996637b4",
   "metadata": {},
   "source": [
    "## Import Base Libraries"
   ]
  },
  {
   "cell_type": "code",
   "execution_count": 7,
   "id": "99b105fd-98da-4894-abeb-d8adbe53c0c9",
   "metadata": {},
   "outputs": [],
   "source": [
    "import os\n",
    "import numpy as np\n",
    "import pandas as pd\n",
    "\n",
    "import matplotlib.pyplot as plt\n",
    "\n",
    "from sklearn.preprocessing import LabelBinarizer\n",
    "from keras.preprocessing.image import ImageDataGenerator\n",
    "from keras.models import Sequential, load_model, Model\n",
    "from keras.layers import Dense, Conv2D, MaxPool2D, Flatten, Dropout, BatchNormalization\n",
    "from keras.callbacks import ReduceLROnPlateau\n",
    "\n",
    "import cv2\n",
    "import mediapipe as mp"
   ]
  },
  {
   "cell_type": "markdown",
   "id": "2e20abbe-1e1a-498e-8e25-bf6f811a5e55",
   "metadata": {},
   "source": [
    "## Load Data"
   ]
  },
  {
   "cell_type": "code",
   "execution_count": 95,
   "id": "ce35c29e-15e2-49a9-a271-3fa372bad6c6",
   "metadata": {},
   "outputs": [],
   "source": [
    "train_df = pd.read_csv(\"./input/sign_language_mnist/sign_mnist_train.csv\")\n",
    "test_df = pd.read_csv(\"./input/sign_language_mnist/sign_mnist_test.csv\")"
   ]
  },
  {
   "cell_type": "code",
   "execution_count": 96,
   "id": "a92b24f5-0388-4e27-8ad3-7e6b6fe4e138",
   "metadata": {},
   "outputs": [
    {
     "name": "stdout",
     "output_type": "stream",
     "text": [
      "<class 'pandas.core.frame.DataFrame'>\n",
      "RangeIndex: 27455 entries, 0 to 27454\n",
      "Columns: 785 entries, label to pixel784\n",
      "dtypes: int64(785)\n",
      "memory usage: 164.4 MB\n"
     ]
    },
    {
     "data": {
      "text/html": [
       "<div>\n",
       "<style scoped>\n",
       "    .dataframe tbody tr th:only-of-type {\n",
       "        vertical-align: middle;\n",
       "    }\n",
       "\n",
       "    .dataframe tbody tr th {\n",
       "        vertical-align: top;\n",
       "    }\n",
       "\n",
       "    .dataframe thead th {\n",
       "        text-align: right;\n",
       "    }\n",
       "</style>\n",
       "<table border=\"1\" class=\"dataframe\">\n",
       "  <thead>\n",
       "    <tr style=\"text-align: right;\">\n",
       "      <th></th>\n",
       "      <th>label</th>\n",
       "      <th>pixel1</th>\n",
       "      <th>pixel2</th>\n",
       "      <th>pixel3</th>\n",
       "      <th>pixel4</th>\n",
       "      <th>pixel5</th>\n",
       "      <th>pixel6</th>\n",
       "      <th>pixel7</th>\n",
       "      <th>pixel8</th>\n",
       "      <th>pixel9</th>\n",
       "      <th>...</th>\n",
       "      <th>pixel775</th>\n",
       "      <th>pixel776</th>\n",
       "      <th>pixel777</th>\n",
       "      <th>pixel778</th>\n",
       "      <th>pixel779</th>\n",
       "      <th>pixel780</th>\n",
       "      <th>pixel781</th>\n",
       "      <th>pixel782</th>\n",
       "      <th>pixel783</th>\n",
       "      <th>pixel784</th>\n",
       "    </tr>\n",
       "  </thead>\n",
       "  <tbody>\n",
       "    <tr>\n",
       "      <th>0</th>\n",
       "      <td>3</td>\n",
       "      <td>107</td>\n",
       "      <td>118</td>\n",
       "      <td>127</td>\n",
       "      <td>134</td>\n",
       "      <td>139</td>\n",
       "      <td>143</td>\n",
       "      <td>146</td>\n",
       "      <td>150</td>\n",
       "      <td>153</td>\n",
       "      <td>...</td>\n",
       "      <td>207</td>\n",
       "      <td>207</td>\n",
       "      <td>207</td>\n",
       "      <td>207</td>\n",
       "      <td>206</td>\n",
       "      <td>206</td>\n",
       "      <td>206</td>\n",
       "      <td>204</td>\n",
       "      <td>203</td>\n",
       "      <td>202</td>\n",
       "    </tr>\n",
       "    <tr>\n",
       "      <th>1</th>\n",
       "      <td>6</td>\n",
       "      <td>155</td>\n",
       "      <td>157</td>\n",
       "      <td>156</td>\n",
       "      <td>156</td>\n",
       "      <td>156</td>\n",
       "      <td>157</td>\n",
       "      <td>156</td>\n",
       "      <td>158</td>\n",
       "      <td>158</td>\n",
       "      <td>...</td>\n",
       "      <td>69</td>\n",
       "      <td>149</td>\n",
       "      <td>128</td>\n",
       "      <td>87</td>\n",
       "      <td>94</td>\n",
       "      <td>163</td>\n",
       "      <td>175</td>\n",
       "      <td>103</td>\n",
       "      <td>135</td>\n",
       "      <td>149</td>\n",
       "    </tr>\n",
       "    <tr>\n",
       "      <th>2</th>\n",
       "      <td>2</td>\n",
       "      <td>187</td>\n",
       "      <td>188</td>\n",
       "      <td>188</td>\n",
       "      <td>187</td>\n",
       "      <td>187</td>\n",
       "      <td>186</td>\n",
       "      <td>187</td>\n",
       "      <td>188</td>\n",
       "      <td>187</td>\n",
       "      <td>...</td>\n",
       "      <td>202</td>\n",
       "      <td>201</td>\n",
       "      <td>200</td>\n",
       "      <td>199</td>\n",
       "      <td>198</td>\n",
       "      <td>199</td>\n",
       "      <td>198</td>\n",
       "      <td>195</td>\n",
       "      <td>194</td>\n",
       "      <td>195</td>\n",
       "    </tr>\n",
       "    <tr>\n",
       "      <th>3</th>\n",
       "      <td>2</td>\n",
       "      <td>211</td>\n",
       "      <td>211</td>\n",
       "      <td>212</td>\n",
       "      <td>212</td>\n",
       "      <td>211</td>\n",
       "      <td>210</td>\n",
       "      <td>211</td>\n",
       "      <td>210</td>\n",
       "      <td>210</td>\n",
       "      <td>...</td>\n",
       "      <td>235</td>\n",
       "      <td>234</td>\n",
       "      <td>233</td>\n",
       "      <td>231</td>\n",
       "      <td>230</td>\n",
       "      <td>226</td>\n",
       "      <td>225</td>\n",
       "      <td>222</td>\n",
       "      <td>229</td>\n",
       "      <td>163</td>\n",
       "    </tr>\n",
       "    <tr>\n",
       "      <th>4</th>\n",
       "      <td>13</td>\n",
       "      <td>164</td>\n",
       "      <td>167</td>\n",
       "      <td>170</td>\n",
       "      <td>172</td>\n",
       "      <td>176</td>\n",
       "      <td>179</td>\n",
       "      <td>180</td>\n",
       "      <td>184</td>\n",
       "      <td>185</td>\n",
       "      <td>...</td>\n",
       "      <td>92</td>\n",
       "      <td>105</td>\n",
       "      <td>105</td>\n",
       "      <td>108</td>\n",
       "      <td>133</td>\n",
       "      <td>163</td>\n",
       "      <td>157</td>\n",
       "      <td>163</td>\n",
       "      <td>164</td>\n",
       "      <td>179</td>\n",
       "    </tr>\n",
       "  </tbody>\n",
       "</table>\n",
       "<p>5 rows × 785 columns</p>\n",
       "</div>"
      ],
      "text/plain": [
       "   label  pixel1  pixel2  pixel3  pixel4  pixel5  pixel6  pixel7  pixel8  \\\n",
       "0      3     107     118     127     134     139     143     146     150   \n",
       "1      6     155     157     156     156     156     157     156     158   \n",
       "2      2     187     188     188     187     187     186     187     188   \n",
       "3      2     211     211     212     212     211     210     211     210   \n",
       "4     13     164     167     170     172     176     179     180     184   \n",
       "\n",
       "   pixel9  ...  pixel775  pixel776  pixel777  pixel778  pixel779  pixel780  \\\n",
       "0     153  ...       207       207       207       207       206       206   \n",
       "1     158  ...        69       149       128        87        94       163   \n",
       "2     187  ...       202       201       200       199       198       199   \n",
       "3     210  ...       235       234       233       231       230       226   \n",
       "4     185  ...        92       105       105       108       133       163   \n",
       "\n",
       "   pixel781  pixel782  pixel783  pixel784  \n",
       "0       206       204       203       202  \n",
       "1       175       103       135       149  \n",
       "2       198       195       194       195  \n",
       "3       225       222       229       163  \n",
       "4       157       163       164       179  \n",
       "\n",
       "[5 rows x 785 columns]"
      ]
     },
     "execution_count": 96,
     "metadata": {},
     "output_type": "execute_result"
    }
   ],
   "source": [
    "train_df.info()\n",
    "train_df.head()"
   ]
  },
  {
   "cell_type": "code",
   "execution_count": 97,
   "id": "99eb722c-d6f8-48f3-81dd-f37995a7895f",
   "metadata": {},
   "outputs": [
    {
     "name": "stdout",
     "output_type": "stream",
     "text": [
      "<class 'pandas.core.frame.DataFrame'>\n",
      "RangeIndex: 7172 entries, 0 to 7171\n",
      "Columns: 785 entries, label to pixel784\n",
      "dtypes: int64(785)\n",
      "memory usage: 43.0 MB\n"
     ]
    },
    {
     "data": {
      "text/html": [
       "<div>\n",
       "<style scoped>\n",
       "    .dataframe tbody tr th:only-of-type {\n",
       "        vertical-align: middle;\n",
       "    }\n",
       "\n",
       "    .dataframe tbody tr th {\n",
       "        vertical-align: top;\n",
       "    }\n",
       "\n",
       "    .dataframe thead th {\n",
       "        text-align: right;\n",
       "    }\n",
       "</style>\n",
       "<table border=\"1\" class=\"dataframe\">\n",
       "  <thead>\n",
       "    <tr style=\"text-align: right;\">\n",
       "      <th></th>\n",
       "      <th>label</th>\n",
       "      <th>pixel1</th>\n",
       "      <th>pixel2</th>\n",
       "      <th>pixel3</th>\n",
       "      <th>pixel4</th>\n",
       "      <th>pixel5</th>\n",
       "      <th>pixel6</th>\n",
       "      <th>pixel7</th>\n",
       "      <th>pixel8</th>\n",
       "      <th>pixel9</th>\n",
       "      <th>...</th>\n",
       "      <th>pixel775</th>\n",
       "      <th>pixel776</th>\n",
       "      <th>pixel777</th>\n",
       "      <th>pixel778</th>\n",
       "      <th>pixel779</th>\n",
       "      <th>pixel780</th>\n",
       "      <th>pixel781</th>\n",
       "      <th>pixel782</th>\n",
       "      <th>pixel783</th>\n",
       "      <th>pixel784</th>\n",
       "    </tr>\n",
       "  </thead>\n",
       "  <tbody>\n",
       "    <tr>\n",
       "      <th>0</th>\n",
       "      <td>6</td>\n",
       "      <td>149</td>\n",
       "      <td>149</td>\n",
       "      <td>150</td>\n",
       "      <td>150</td>\n",
       "      <td>150</td>\n",
       "      <td>151</td>\n",
       "      <td>151</td>\n",
       "      <td>150</td>\n",
       "      <td>151</td>\n",
       "      <td>...</td>\n",
       "      <td>138</td>\n",
       "      <td>148</td>\n",
       "      <td>127</td>\n",
       "      <td>89</td>\n",
       "      <td>82</td>\n",
       "      <td>96</td>\n",
       "      <td>106</td>\n",
       "      <td>112</td>\n",
       "      <td>120</td>\n",
       "      <td>107</td>\n",
       "    </tr>\n",
       "    <tr>\n",
       "      <th>1</th>\n",
       "      <td>5</td>\n",
       "      <td>126</td>\n",
       "      <td>128</td>\n",
       "      <td>131</td>\n",
       "      <td>132</td>\n",
       "      <td>133</td>\n",
       "      <td>134</td>\n",
       "      <td>135</td>\n",
       "      <td>135</td>\n",
       "      <td>136</td>\n",
       "      <td>...</td>\n",
       "      <td>47</td>\n",
       "      <td>104</td>\n",
       "      <td>194</td>\n",
       "      <td>183</td>\n",
       "      <td>186</td>\n",
       "      <td>184</td>\n",
       "      <td>184</td>\n",
       "      <td>184</td>\n",
       "      <td>182</td>\n",
       "      <td>180</td>\n",
       "    </tr>\n",
       "    <tr>\n",
       "      <th>2</th>\n",
       "      <td>10</td>\n",
       "      <td>85</td>\n",
       "      <td>88</td>\n",
       "      <td>92</td>\n",
       "      <td>96</td>\n",
       "      <td>105</td>\n",
       "      <td>123</td>\n",
       "      <td>135</td>\n",
       "      <td>143</td>\n",
       "      <td>147</td>\n",
       "      <td>...</td>\n",
       "      <td>68</td>\n",
       "      <td>166</td>\n",
       "      <td>242</td>\n",
       "      <td>227</td>\n",
       "      <td>230</td>\n",
       "      <td>227</td>\n",
       "      <td>226</td>\n",
       "      <td>225</td>\n",
       "      <td>224</td>\n",
       "      <td>222</td>\n",
       "    </tr>\n",
       "    <tr>\n",
       "      <th>3</th>\n",
       "      <td>0</td>\n",
       "      <td>203</td>\n",
       "      <td>205</td>\n",
       "      <td>207</td>\n",
       "      <td>206</td>\n",
       "      <td>207</td>\n",
       "      <td>209</td>\n",
       "      <td>210</td>\n",
       "      <td>209</td>\n",
       "      <td>210</td>\n",
       "      <td>...</td>\n",
       "      <td>154</td>\n",
       "      <td>248</td>\n",
       "      <td>247</td>\n",
       "      <td>248</td>\n",
       "      <td>253</td>\n",
       "      <td>236</td>\n",
       "      <td>230</td>\n",
       "      <td>240</td>\n",
       "      <td>253</td>\n",
       "      <td>255</td>\n",
       "    </tr>\n",
       "    <tr>\n",
       "      <th>4</th>\n",
       "      <td>3</td>\n",
       "      <td>188</td>\n",
       "      <td>191</td>\n",
       "      <td>193</td>\n",
       "      <td>195</td>\n",
       "      <td>199</td>\n",
       "      <td>201</td>\n",
       "      <td>202</td>\n",
       "      <td>203</td>\n",
       "      <td>203</td>\n",
       "      <td>...</td>\n",
       "      <td>26</td>\n",
       "      <td>40</td>\n",
       "      <td>64</td>\n",
       "      <td>48</td>\n",
       "      <td>29</td>\n",
       "      <td>46</td>\n",
       "      <td>49</td>\n",
       "      <td>46</td>\n",
       "      <td>46</td>\n",
       "      <td>53</td>\n",
       "    </tr>\n",
       "  </tbody>\n",
       "</table>\n",
       "<p>5 rows × 785 columns</p>\n",
       "</div>"
      ],
      "text/plain": [
       "   label  pixel1  pixel2  pixel3  pixel4  pixel5  pixel6  pixel7  pixel8  \\\n",
       "0      6     149     149     150     150     150     151     151     150   \n",
       "1      5     126     128     131     132     133     134     135     135   \n",
       "2     10      85      88      92      96     105     123     135     143   \n",
       "3      0     203     205     207     206     207     209     210     209   \n",
       "4      3     188     191     193     195     199     201     202     203   \n",
       "\n",
       "   pixel9  ...  pixel775  pixel776  pixel777  pixel778  pixel779  pixel780  \\\n",
       "0     151  ...       138       148       127        89        82        96   \n",
       "1     136  ...        47       104       194       183       186       184   \n",
       "2     147  ...        68       166       242       227       230       227   \n",
       "3     210  ...       154       248       247       248       253       236   \n",
       "4     203  ...        26        40        64        48        29        46   \n",
       "\n",
       "   pixel781  pixel782  pixel783  pixel784  \n",
       "0       106       112       120       107  \n",
       "1       184       184       182       180  \n",
       "2       226       225       224       222  \n",
       "3       230       240       253       255  \n",
       "4        49        46        46        53  \n",
       "\n",
       "[5 rows x 785 columns]"
      ]
     },
     "execution_count": 97,
     "metadata": {},
     "output_type": "execute_result"
    }
   ],
   "source": [
    "test_df.info()\n",
    "test_df.head()"
   ]
  },
  {
   "cell_type": "markdown",
   "id": "f979d4a4-8a63-4b86-b002-ff3e231d1e2a",
   "metadata": {},
   "source": [
    "## Pre-process Data"
   ]
  },
  {
   "cell_type": "markdown",
   "id": "38a559c9-e01d-4740-a474-35c0c62433cc",
   "metadata": {},
   "source": [
    "### Split Labels and Data"
   ]
  },
  {
   "cell_type": "code",
   "execution_count": 142,
   "id": "03f0960c-1cb3-4428-b267-abb610e134ab",
   "metadata": {},
   "outputs": [],
   "source": [
    "train_label = train_df[\"label\"]\n",
    "train_set = train_df.drop([\"label\"], axis=1)\n",
    "\n",
    "test_label = test_df[\"label\"]\n",
    "test_set = test_df.drop([\"label\"], axis=1)"
   ]
  },
  {
   "cell_type": "code",
   "execution_count": 145,
   "id": "b75a5c97-1057-45b0-b997-13fb66523668",
   "metadata": {},
   "outputs": [
    {
     "data": {
      "text/plain": [
       "24"
      ]
     },
     "execution_count": 145,
     "metadata": {},
     "output_type": "execute_result"
    }
   ],
   "source": [
    "len(train_label.unique())"
   ]
  },
  {
   "cell_type": "code",
   "execution_count": 143,
   "id": "fc34bd7c-c0b4-4d8e-b196-d70f71d15874",
   "metadata": {},
   "outputs": [
    {
     "data": {
      "text/plain": [
       "[0,\n",
       " 1,\n",
       " 2,\n",
       " 3,\n",
       " 4,\n",
       " 5,\n",
       " 6,\n",
       " 7,\n",
       " 8,\n",
       " 10,\n",
       " 11,\n",
       " 12,\n",
       " 13,\n",
       " 14,\n",
       " 15,\n",
       " 16,\n",
       " 17,\n",
       " 18,\n",
       " 19,\n",
       " 20,\n",
       " 21,\n",
       " 22,\n",
       " 23,\n",
       " 24]"
      ]
     },
     "execution_count": 143,
     "metadata": {},
     "output_type": "execute_result"
    }
   ],
   "source": [
    "sorted(train_label.unique())"
   ]
  },
  {
   "cell_type": "markdown",
   "id": "cc51dd0b-c7ea-43d4-81f8-0aaf1d4f4c2b",
   "metadata": {},
   "source": [
    "### Reshape data from 1-D to 3-D"
   ]
  },
  {
   "cell_type": "code",
   "execution_count": 122,
   "id": "17c0d14f-12f6-4232-8ca6-08783706d010",
   "metadata": {},
   "outputs": [
    {
     "name": "stdout",
     "output_type": "stream",
     "text": [
      "(27455, 28, 28, 1)\n",
      "(7172, 28, 28, 1)\n"
     ]
    }
   ],
   "source": [
    "X_train = np.reshape(train_set.values, (-1, 28, 28, 1))\n",
    "X_test = np.reshape(test_set.values, (-1, 28, 28, 1))\n",
    "\n",
    "print(X_train.shape)\n",
    "print(X_test.shape)\n",
    "\n"
   ]
  },
  {
   "cell_type": "code",
   "execution_count": 123,
   "id": "6d8de890-34fc-4947-be69-03ad588e88fd",
   "metadata": {},
   "outputs": [],
   "source": [
    "# Normalize dataset (divide ea. pixel by 255 so that pixel range = [0, 1]\n",
    "X_train = X_train/255\n",
    "X_test = X_test/255"
   ]
  },
  {
   "cell_type": "code",
   "execution_count": 125,
   "id": "2002a406-afdd-43a6-9c66-d351bc17fd4b",
   "metadata": {},
   "outputs": [
    {
     "data": {
      "image/png": "[encoded data removed]",
      "text/plain": [
       "<Figure size 500x500 with 6 Axes>"
      ]
     },
     "metadata": {},
     "output_type": "display_data"
    }
   ],
   "source": [
    "f, ax = plt.subplots(2,3) \n",
    "f.set_size_inches(5, 5)\n",
    "k = 0\n",
    "for i in range(2):\n",
    "    for j in range(3):\n",
    "        ax[i,j].imshow(X_train[k] , cmap = \"gray\")\n",
    "        k += 1\n",
    "    plt.tight_layout()   "
   ]
  },
  {
   "cell_type": "markdown",
   "id": "f46862fd-112d-43b3-bede-4266a3cd8660",
   "metadata": {},
   "source": [
    "### Convert Integer Labels (0-24) to Binary"
   ]
  },
  {
   "cell_type": "code",
   "execution_count": 64,
   "id": "d2656e87-6ad4-475d-8e8c-799823171b6a",
   "metadata": {},
   "outputs": [],
   "source": [
    "lb = LabelBinarizer()\n",
    "y_train = lb.fit_transform(train_label)\n",
    "y_test = lb.fit_transform(test_label)"
   ]
  },
  {
   "cell_type": "markdown",
   "id": "248366ef-60ef-4d2d-b7a3-7b2ea7b054e5",
   "metadata": {},
   "source": [
    "## Data Augmentation"
   ]
  },
  {
   "cell_type": "code",
   "execution_count": 65,
   "id": "a0d53d96-4f69-4bcd-85ee-941c91d273d6",
   "metadata": {},
   "outputs": [
    {
     "data": {
      "text/plain": [
       "0.6246706203880206"
      ]
     },
     "execution_count": 65,
     "metadata": {},
     "output_type": "execute_result"
    }
   ],
   "source": [
    "X_train.mean()"
   ]
  },
  {
   "cell_type": "code",
   "execution_count": 66,
   "id": "dad906b8-a1f8-4e6b-be5d-dc5734c9cb72",
   "metadata": {},
   "outputs": [],
   "source": [
    "datagen = ImageDataGenerator(\n",
    "    rescale=1/255,\n",
    "    horizontal_flip=True,\n",
    "    zoom_range=0.1,\n",
    "    rotation_range=10,\n",
    "    height_shift_range=0.2,\n",
    "    width_shift_range=0.2\n",
    ")\n",
    "\n",
    "datagen.fit(X_train)"
   ]
  },
  {
   "cell_type": "code",
   "execution_count": 71,
   "id": "2dd6932c-1ee6-437f-8767-57b2796c3e37",
   "metadata": {},
   "outputs": [],
   "source": [
    "datagen = ImageDataGenerator(rescale = 1./255,\n",
    "                                  rotation_range = 0,\n",
    "                                  height_shift_range=0.2,\n",
    "                                  width_shift_range=0.2,\n",
    "                                  shear_range=0,\n",
    "                                  zoom_range=0.2,\n",
    "                                  horizontal_flip=True,\n",
    "                                  fill_mode='nearest')\n",
    "\n",
    "\n",
    "datagen.fit(X_train)"
   ]
  },
  {
   "cell_type": "code",
   "execution_count": 81,
   "id": "3ef8ddce-aa12-40fd-9a2b-454130701cfc",
   "metadata": {},
   "outputs": [],
   "source": [
    "datagen = ImageDataGenerator(\n",
    "        featurewise_center=False,  # set input mean to 0 over the dataset\n",
    "        samplewise_center=False,  # set each sample mean to 0\n",
    "        featurewise_std_normalization=False,  # divide inputs by std of the dataset\n",
    "        samplewise_std_normalization=False,  # divide each input by its std\n",
    "        zca_whitening=False,  # apply ZCA whitening\n",
    "        rotation_range=10,  # randomly rotate images in the range (degrees, 0 to 180)\n",
    "        zoom_range = 0.1, # Randomly zoom image \n",
    "        width_shift_range=0.1,  # randomly shift images horizontally (fraction of total width)\n",
    "        height_shift_range=0.1,  # randomly shift images vertically (fraction of total height)\n",
    "        horizontal_flip=False,  # randomly flip images\n",
    "        vertical_flip=False)  # randomly flip images\n",
    "\n",
    "\n",
    "datagen.fit(X_train)"
   ]
  },
  {
   "cell_type": "markdown",
   "id": "17090a2f-1aa7-4399-967c-fbca988c8dde",
   "metadata": {},
   "source": [
    "# Creating our Convolutional Neural Network"
   ]
  },
  {
   "cell_type": "code",
   "execution_count": 71,
   "id": "1422df3f-93b3-42fd-8ede-514521b841e6",
   "metadata": {},
   "outputs": [
    {
     "name": "stdout",
     "output_type": "stream",
     "text": [
      "Model: \"sequential\"\n",
      "_________________________________________________________________\n",
      " Layer (type)                Output Shape              Param #   \n",
      "=================================================================\n",
      " conv2d (Conv2D)             (None, 28, 28, 128)       3328      \n",
      "                                                                 \n",
      " max_pooling2d (MaxPooling2  (None, 14, 14, 128)       0         \n",
      " D)                                                              \n",
      "                                                                 \n",
      " conv2d_1 (Conv2D)           (None, 14, 14, 64)        73792     \n",
      "                                                                 \n",
      " max_pooling2d_1 (MaxPoolin  (None, 7, 7, 64)          0         \n",
      " g2D)                                                            \n",
      "                                                                 \n",
      " conv2d_2 (Conv2D)           (None, 7, 7, 32)          8224      \n",
      "                                                                 \n",
      " max_pooling2d_2 (MaxPoolin  (None, 4, 4, 32)          0         \n",
      " g2D)                                                            \n",
      "                                                                 \n",
      " flatten (Flatten)           (None, 512)               0         \n",
      "                                                                 \n",
      " dense (Dense)               (None, 512)               262656    \n",
      "                                                                 \n",
      " dropout (Dropout)           (None, 512)               0         \n",
      "                                                                 \n",
      " dense_1 (Dense)             (None, 24)                12312     \n",
      "                                                                 \n",
      "=================================================================\n",
      "Total params: 360312 (1.37 MB)\n",
      "Trainable params: 360312 (1.37 MB)\n",
      "Non-trainable params: 0 (0.00 Byte)\n",
      "_________________________________________________________________\n"
     ]
    }
   ],
   "source": [
    "model = Sequential()\n",
    "\n",
    "# Conv Layer 1\n",
    "model.add(Conv2D(128, kernel_size=(5,5), strides=1, padding='same', activation='relu', input_shape=(28,28,1)))\n",
    "model.add(MaxPool2D(pool_size=(3,3), strides=2, padding='same'))\n",
    "\n",
    "# Conv Layer 2\n",
    "model.add(Conv2D(64, kernel_size=(3,3), strides=1, padding='same', activation='relu', input_shape=(28,28,1)))\n",
    "model.add(MaxPool2D((2,2),2,padding='same'))\n",
    "\n",
    "# Conv Layer 3\n",
    "model.add(Conv2D(32, kernel_size=(2,2), strides=1, padding='same', activation='relu', input_shape=(28,28,1)))\n",
    "model.add(MaxPool2D((2,2),2,padding='same'))\n",
    "\n",
    "model.add(Flatten())\n",
    "model.add(Dense(units=512,activation='relu'))\n",
    "model.add(Dropout(rate=0.25))\n",
    "model.add(Dense(units=24,activation='softmax'))\n",
    "\n",
    "model.summary()"
   ]
  },
  {
   "cell_type": "code",
   "execution_count": 85,
   "id": "d3c133ad-fd13-41da-af9c-c2d48faaf8a7",
   "metadata": {},
   "outputs": [
    {
     "name": "stdout",
     "output_type": "stream",
     "text": [
      "Model: \"sequential_3\"\n",
      "_________________________________________________________________\n",
      " Layer (type)                Output Shape              Param #   \n",
      "=================================================================\n",
      " conv2d_7 (Conv2D)           (None, 28, 28, 75)        750       \n",
      "                                                                 \n",
      " batch_normalization_3 (Bat  (None, 28, 28, 75)        300       \n",
      " chNormalization)                                                \n",
      "                                                                 \n",
      " max_pooling2d_6 (MaxPoolin  (None, 14, 14, 75)        0         \n",
      " g2D)                                                            \n",
      "                                                                 \n",
      " conv2d_8 (Conv2D)           (None, 14, 14, 50)        33800     \n",
      "                                                                 \n",
      " dropout_3 (Dropout)         (None, 14, 14, 50)        0         \n",
      "                                                                 \n",
      " batch_normalization_4 (Bat  (None, 14, 14, 50)        200       \n",
      " chNormalization)                                                \n",
      "                                                                 \n",
      " max_pooling2d_7 (MaxPoolin  (None, 7, 7, 50)          0         \n",
      " g2D)                                                            \n",
      "                                                                 \n",
      " conv2d_9 (Conv2D)           (None, 7, 7, 25)          11275     \n",
      "                                                                 \n",
      " batch_normalization_5 (Bat  (None, 7, 7, 25)          100       \n",
      " chNormalization)                                                \n",
      "                                                                 \n",
      " max_pooling2d_8 (MaxPoolin  (None, 4, 4, 25)          0         \n",
      " g2D)                                                            \n",
      "                                                                 \n",
      " flatten_2 (Flatten)         (None, 400)               0         \n",
      "                                                                 \n",
      " dense_4 (Dense)             (None, 512)               205312    \n",
      "                                                                 \n",
      " dropout_4 (Dropout)         (None, 512)               0         \n",
      "                                                                 \n",
      " dense_5 (Dense)             (None, 24)                12312     \n",
      "                                                                 \n",
      "=================================================================\n",
      "Total params: 264049 (1.01 MB)\n",
      "Trainable params: 263749 (1.01 MB)\n",
      "Non-trainable params: 300 (1.17 KB)\n",
      "_________________________________________________________________\n"
     ]
    }
   ],
   "source": [
    "model = Sequential()\n",
    "model.add(Conv2D(75 , (3,3) , strides = 1 , padding = 'same' , activation = 'relu' , input_shape = (28,28,1)))\n",
    "model.add(BatchNormalization())\n",
    "model.add(MaxPool2D((2,2) , strides = 2 , padding = 'same'))\n",
    "model.add(Conv2D(50 , (3,3) , strides = 1 , padding = 'same' , activation = 'relu'))\n",
    "model.add(Dropout(0.2))\n",
    "model.add(BatchNormalization())\n",
    "model.add(MaxPool2D((2,2) , strides = 2 , padding = 'same'))\n",
    "model.add(Conv2D(25 , (3,3) , strides = 1 , padding = 'same' , activation = 'relu'))\n",
    "model.add(BatchNormalization())\n",
    "model.add(MaxPool2D((2,2) , strides = 2 , padding = 'same'))\n",
    "model.add(Flatten())\n",
    "model.add(Dense(units = 512 , activation = 'relu'))\n",
    "model.add(Dropout(0.3))\n",
    "model.add(Dense(units = 24 , activation = 'softmax'))\n",
    "model.compile(optimizer = 'adam' , loss = 'categorical_crossentropy' , metrics = ['accuracy'])\n",
    "model.summary()"
   ]
  },
  {
   "cell_type": "code",
   "execution_count": 86,
   "id": "5d3a32eb-a860-42ed-885d-5a32db2c09b1",
   "metadata": {},
   "outputs": [],
   "source": [
    "model.compile(optimizer = 'adam' , loss = 'categorical_crossentropy' , metrics = ['accuracy'])"
   ]
  },
  {
   "cell_type": "markdown",
   "id": "7b21b9fb-8e62-465e-8d70-d9fdd68f9f34",
   "metadata": {},
   "source": [
    "### Fit the Model w/ Train"
   ]
  },
  {
   "cell_type": "markdown",
   "id": "1831d72d-003b-4cf6-a7e5-e399f958c4d2",
   "metadata": {},
   "source": [
    "## Attempt 3"
   ]
  },
  {
   "cell_type": "code",
   "execution_count": 77,
   "id": "ab6c1430-4c7e-40d8-bd82-3f8943612245",
   "metadata": {},
   "outputs": [
    {
     "name": "stdout",
     "output_type": "stream",
     "text": [
      "Model: \"sequential_5\"\n",
      "_________________________________________________________________\n",
      " Layer (type)                Output Shape              Param #   \n",
      "=================================================================\n",
      " conv2d_15 (Conv2D)          (None, 28, 28, 128)       3328      \n",
      "                                                                 \n",
      " max_pooling2d_15 (MaxPooli  (None, 14, 14, 128)       0         \n",
      " ng2D)                                                           \n",
      "                                                                 \n",
      " conv2d_16 (Conv2D)          (None, 14, 14, 64)        32832     \n",
      "                                                                 \n",
      " max_pooling2d_16 (MaxPooli  (None, 7, 7, 64)          0         \n",
      " ng2D)                                                           \n",
      "                                                                 \n",
      " conv2d_17 (Conv2D)          (None, 7, 7, 32)          8224      \n",
      "                                                                 \n",
      " max_pooling2d_17 (MaxPooli  (None, 4, 4, 32)          0         \n",
      " ng2D)                                                           \n",
      "                                                                 \n",
      " flatten_5 (Flatten)         (None, 512)               0         \n",
      "                                                                 \n",
      " dense_10 (Dense)            (None, 512)               262656    \n",
      "                                                                 \n",
      " dropout_5 (Dropout)         (None, 512)               0         \n",
      "                                                                 \n",
      " dense_11 (Dense)            (None, 24)                12312     \n",
      "                                                                 \n",
      "=================================================================\n",
      "Total params: 319352 (1.22 MB)\n",
      "Trainable params: 319352 (1.22 MB)\n",
      "Non-trainable params: 0 (0.00 Byte)\n",
      "_________________________________________________________________\n"
     ]
    }
   ],
   "source": [
    "model = Sequential()\n",
    "model.add(Conv2D(128,kernel_size=(5,5),\n",
    "                 strides=1,padding='same',activation='relu',input_shape=(28,28,1)))\n",
    "model.add(MaxPool2D(pool_size=(3,3),strides=2,padding='same'))\n",
    "model.add(Conv2D(64,kernel_size=(2,2),\n",
    "                strides=1,activation='relu',padding='same'))\n",
    "model.add(MaxPool2D((2,2),2,padding='same'))\n",
    "model.add(Conv2D(32,kernel_size=(2,2),\n",
    "                strides=1,activation='relu',padding='same'))\n",
    "model.add(MaxPool2D((2,2),2,padding='same'))\n",
    "          \n",
    "model.add(Flatten())\n",
    "model.add(Dense(units=512,activation='relu'))\n",
    "model.add(Dropout(rate=0.25))\n",
    "model.add(Dense(units=24,activation='softmax'))\n",
    "model.summary()\n",
    "\n",
    "model.compile(optimizer = 'adam' , loss = 'categorical_crossentropy' , metrics = ['accuracy'])"
   ]
  },
  {
   "cell_type": "code",
   "execution_count": 82,
   "id": "1d99552d-1c14-40cd-95d3-71c501343a28",
   "metadata": {},
   "outputs": [
    {
     "name": "stdout",
     "output_type": "stream",
     "text": [
      "Epoch 1/35\n",
      "138/138 [==============================] - 31s 221ms/step - loss: 2.2877 - accuracy: 0.2971 - val_loss: 1.0162 - val_accuracy: 0.6744 - lr: 5.0000e-04\n",
      "Epoch 2/35\n",
      "138/138 [==============================] - 31s 222ms/step - loss: 0.9580 - accuracy: 0.6801 - val_loss: 0.5077 - val_accuracy: 0.8410 - lr: 5.0000e-04\n",
      "Epoch 3/35\n",
      "138/138 [==============================] - 30s 220ms/step - loss: 0.5631 - accuracy: 0.8099 - val_loss: 0.3724 - val_accuracy: 0.8635 - lr: 5.0000e-04\n",
      "Epoch 4/35\n",
      "138/138 [==============================] - 30s 219ms/step - loss: 0.4037 - accuracy: 0.8655 - val_loss: 0.2781 - val_accuracy: 0.9098 - lr: 5.0000e-04\n",
      "Epoch 5/35\n",
      "138/138 [==============================] - 30s 219ms/step - loss: 0.3127 - accuracy: 0.8987 - val_loss: 0.2394 - val_accuracy: 0.9197 - lr: 5.0000e-04\n",
      "Epoch 6/35\n",
      "138/138 [==============================] - 30s 219ms/step - loss: 0.2510 - accuracy: 0.9177 - val_loss: 0.1364 - val_accuracy: 0.9631 - lr: 5.0000e-04\n",
      "Epoch 7/35\n",
      "138/138 [==============================] - 30s 218ms/step - loss: 0.1985 - accuracy: 0.9374 - val_loss: 0.1100 - val_accuracy: 0.9752 - lr: 5.0000e-04\n",
      "Epoch 8/35\n",
      "138/138 [==============================] - 30s 218ms/step - loss: 0.1703 - accuracy: 0.9450 - val_loss: 0.0940 - val_accuracy: 0.9756 - lr: 5.0000e-04\n",
      "Epoch 9/35\n",
      "138/138 [==============================] - 30s 219ms/step - loss: 0.1452 - accuracy: 0.9531 - val_loss: 0.1122 - val_accuracy: 0.9709 - lr: 5.0000e-04\n",
      "Epoch 10/35\n",
      "138/138 [==============================] - ETA: 0s - loss: 0.1237 - accuracy: 0.9599\n",
      "Epoch 10: ReduceLROnPlateau reducing learning rate to 0.0002500000118743628.\n",
      "138/138 [==============================] - 30s 219ms/step - loss: 0.1237 - accuracy: 0.9599 - val_loss: 0.1052 - val_accuracy: 0.9713 - lr: 5.0000e-04\n",
      "Epoch 11/35\n",
      "138/138 [==============================] - 30s 220ms/step - loss: 0.1002 - accuracy: 0.9705 - val_loss: 0.0646 - val_accuracy: 0.9888 - lr: 2.5000e-04\n",
      "Epoch 12/35\n",
      "138/138 [==============================] - 31s 228ms/step - loss: 0.0917 - accuracy: 0.9721 - val_loss: 0.0700 - val_accuracy: 0.9835 - lr: 2.5000e-04\n",
      "Epoch 13/35\n",
      "138/138 [==============================] - ETA: 0s - loss: 0.0830 - accuracy: 0.9749\n",
      "Epoch 13: ReduceLROnPlateau reducing learning rate to 0.0001250000059371814.\n",
      "138/138 [==============================] - 30s 218ms/step - loss: 0.0830 - accuracy: 0.9749 - val_loss: 0.0527 - val_accuracy: 0.9879 - lr: 2.5000e-04\n",
      "Epoch 14/35\n",
      "138/138 [==============================] - 30s 218ms/step - loss: 0.0735 - accuracy: 0.9779 - val_loss: 0.0760 - val_accuracy: 0.9813 - lr: 1.2500e-04\n",
      "Epoch 15/35\n",
      "138/138 [==============================] - ETA: 0s - loss: 0.0702 - accuracy: 0.9789\n",
      "Epoch 15: ReduceLROnPlateau reducing learning rate to 6.25000029685907e-05.\n",
      "138/138 [==============================] - 30s 220ms/step - loss: 0.0702 - accuracy: 0.9789 - val_loss: 0.0587 - val_accuracy: 0.9881 - lr: 1.2500e-04\n",
      "Epoch 16/35\n",
      "138/138 [==============================] - 30s 219ms/step - loss: 0.0691 - accuracy: 0.9793 - val_loss: 0.0620 - val_accuracy: 0.9841 - lr: 6.2500e-05\n",
      "Epoch 17/35\n",
      "138/138 [==============================] - ETA: 0s - loss: 0.0667 - accuracy: 0.9801\n",
      "Epoch 17: ReduceLROnPlateau reducing learning rate to 3.125000148429535e-05.\n",
      "138/138 [==============================] - 31s 222ms/step - loss: 0.0667 - accuracy: 0.9801 - val_loss: 0.0530 - val_accuracy: 0.9879 - lr: 6.2500e-05\n",
      "Epoch 18/35\n",
      "138/138 [==============================] - 30s 220ms/step - loss: 0.0615 - accuracy: 0.9827 - val_loss: 0.0497 - val_accuracy: 0.9884 - lr: 3.1250e-05\n",
      "Epoch 19/35\n",
      "138/138 [==============================] - ETA: 0s - loss: 0.0597 - accuracy: 0.9826\n",
      "Epoch 19: ReduceLROnPlateau reducing learning rate to 1.5625000742147677e-05.\n",
      "138/138 [==============================] - 30s 220ms/step - loss: 0.0597 - accuracy: 0.9826 - val_loss: 0.0535 - val_accuracy: 0.9880 - lr: 3.1250e-05\n",
      "Epoch 20/35\n",
      "138/138 [==============================] - 30s 221ms/step - loss: 0.0619 - accuracy: 0.9821 - val_loss: 0.0584 - val_accuracy: 0.9865 - lr: 1.5625e-05\n",
      "Epoch 21/35\n",
      "138/138 [==============================] - ETA: 0s - loss: 0.0603 - accuracy: 0.9827\n",
      "Epoch 21: ReduceLROnPlateau reducing learning rate to 1e-05.\n",
      "138/138 [==============================] - 30s 220ms/step - loss: 0.0603 - accuracy: 0.9827 - val_loss: 0.0556 - val_accuracy: 0.9872 - lr: 1.5625e-05\n",
      "Epoch 22/35\n",
      "138/138 [==============================] - 31s 221ms/step - loss: 0.0588 - accuracy: 0.9828 - val_loss: 0.0536 - val_accuracy: 0.9872 - lr: 1.0000e-05\n",
      "Epoch 23/35\n",
      "138/138 [==============================] - 31s 222ms/step - loss: 0.0618 - accuracy: 0.9822 - val_loss: 0.0543 - val_accuracy: 0.9877 - lr: 1.0000e-05\n",
      "Epoch 24/35\n",
      "138/138 [==============================] - 31s 222ms/step - loss: 0.0585 - accuracy: 0.9835 - val_loss: 0.0538 - val_accuracy: 0.9876 - lr: 1.0000e-05\n",
      "Epoch 25/35\n",
      "138/138 [==============================] - 31s 227ms/step - loss: 0.0589 - accuracy: 0.9827 - val_loss: 0.0532 - val_accuracy: 0.9879 - lr: 1.0000e-05\n",
      "Epoch 26/35\n",
      "138/138 [==============================] - 31s 222ms/step - loss: 0.0596 - accuracy: 0.9825 - val_loss: 0.0572 - val_accuracy: 0.9875 - lr: 1.0000e-05\n",
      "Epoch 27/35\n",
      "138/138 [==============================] - 33s 235ms/step - loss: 0.0577 - accuracy: 0.9832 - val_loss: 0.0517 - val_accuracy: 0.9893 - lr: 1.0000e-05\n",
      "Epoch 28/35\n",
      "138/138 [==============================] - 33s 236ms/step - loss: 0.0589 - accuracy: 0.9829 - val_loss: 0.0566 - val_accuracy: 0.9870 - lr: 1.0000e-05\n",
      "Epoch 29/35\n",
      "138/138 [==============================] - 32s 231ms/step - loss: 0.0576 - accuracy: 0.9832 - val_loss: 0.0556 - val_accuracy: 0.9861 - lr: 1.0000e-05\n",
      "Epoch 30/35\n",
      "138/138 [==============================] - 31s 226ms/step - loss: 0.0583 - accuracy: 0.9830 - val_loss: 0.0530 - val_accuracy: 0.9884 - lr: 1.0000e-05\n",
      "Epoch 31/35\n",
      "138/138 [==============================] - 32s 230ms/step - loss: 0.0565 - accuracy: 0.9833 - val_loss: 0.0506 - val_accuracy: 0.9888 - lr: 1.0000e-05\n",
      "Epoch 32/35\n",
      "138/138 [==============================] - 31s 223ms/step - loss: 0.0593 - accuracy: 0.9821 - val_loss: 0.0521 - val_accuracy: 0.9881 - lr: 1.0000e-05\n",
      "Epoch 33/35\n",
      "138/138 [==============================] - 31s 224ms/step - loss: 0.0563 - accuracy: 0.9841 - val_loss: 0.0548 - val_accuracy: 0.9866 - lr: 1.0000e-05\n",
      "Epoch 34/35\n",
      "138/138 [==============================] - 30s 220ms/step - loss: 0.0545 - accuracy: 0.9838 - val_loss: 0.0538 - val_accuracy: 0.9877 - lr: 1.0000e-05\n",
      "Epoch 35/35\n",
      "138/138 [==============================] - 31s 221ms/step - loss: 0.0559 - accuracy: 0.9838 - val_loss: 0.0566 - val_accuracy: 0.9872 - lr: 1.0000e-05\n"
     ]
    },
    {
     "data": {
      "text/plain": [
       "<keras.src.callbacks.History at 0x1dfe8988880>"
      ]
     },
     "execution_count": 82,
     "metadata": {},
     "output_type": "execute_result"
    }
   ],
   "source": [
    "model.fit(datagen.flow(X_train,y_train,batch_size=200),\n",
    "         epochs = 35,\n",
    "          validation_data=(X_test,y_test),\n",
    "          shuffle=1,\n",
    "          callbacks = [learning_rate_reduction]\n",
    "         )"
   ]
  },
  {
   "cell_type": "code",
   "execution_count": 83,
   "id": "8d875199-9071-477d-9565-b21223bc48d1",
   "metadata": {},
   "outputs": [
    {
     "name": "stdout",
     "output_type": "stream",
     "text": [
      "225/225 [==============================] - 3s 12ms/step - loss: 0.0566 - accuracy: 0.9872\n",
      "Accuracy of the model is -  98.71723651885986 %\n"
     ]
    }
   ],
   "source": [
    "print(\"Accuracy of the model is - \" , model.evaluate(X_test,y_test)[1]*100 , \"%\")"
   ]
  },
  {
   "cell_type": "code",
   "execution_count": 84,
   "id": "e6c50f77-47ce-4814-a0b2-36e2b12e7e96",
   "metadata": {},
   "outputs": [
    {
     "name": "stderr",
     "output_type": "stream",
     "text": [
      "D:\\Anaconda3\\envs\\sc4031\\lib\\site-packages\\keras\\src\\engine\\training.py:3000: UserWarning: You are saving your model as an HDF5 file via `model.save()`. This file format is considered legacy. We recommend using instead the native Keras format, e.g. `model.save('my_model.keras')`.\n",
      "  saving_api.save_model(\n"
     ]
    }
   ],
   "source": [
    "model.save(\"asl_mnist_98.h5\")"
   ]
  },
  {
   "cell_type": "markdown",
   "id": "1b9ae163-c243-4703-90ba-29d95f298d1d",
   "metadata": {},
   "source": [
    "## Attempt 2"
   ]
  },
  {
   "cell_type": "code",
   "execution_count": 89,
   "id": "4d9d14bb-fe38-46ae-90a9-67e90971acc5",
   "metadata": {},
   "outputs": [
    {
     "name": "stdout",
     "output_type": "stream",
     "text": [
      "Epoch 1/20\n",
      "215/215 [==============================] - 41s 183ms/step - loss: 1.0797 - accuracy: 0.6650 - val_loss: 3.2743 - val_accuracy: 0.1482 - lr: 0.0010\n",
      "Epoch 2/20\n",
      "215/215 [==============================] - 38s 177ms/step - loss: 0.2018 - accuracy: 0.9330 - val_loss: 1.1774 - val_accuracy: 0.6065 - lr: 0.0010\n",
      "Epoch 3/20\n",
      "215/215 [==============================] - 38s 177ms/step - loss: 0.0964 - accuracy: 0.9691 - val_loss: 0.1687 - val_accuracy: 0.9431 - lr: 0.0010\n",
      "Epoch 4/20\n",
      "215/215 [==============================] - 40s 184ms/step - loss: 0.0608 - accuracy: 0.9807 - val_loss: 0.0292 - val_accuracy: 0.9921 - lr: 0.0010\n",
      "Epoch 5/20\n",
      "215/215 [==============================] - 39s 182ms/step - loss: 0.0434 - accuracy: 0.9868 - val_loss: 0.0363 - val_accuracy: 0.9883 - lr: 0.0010\n",
      "Epoch 6/20\n",
      "215/215 [==============================] - ETA: 0s - loss: 0.0366 - accuracy: 0.9887\n",
      "Epoch 6: ReduceLROnPlateau reducing learning rate to 0.0005000000237487257.\n",
      "215/215 [==============================] - 38s 176ms/step - loss: 0.0366 - accuracy: 0.9887 - val_loss: 0.0519 - val_accuracy: 0.9847 - lr: 0.0010\n",
      "Epoch 7/20\n",
      "215/215 [==============================] - 39s 183ms/step - loss: 0.0192 - accuracy: 0.9944 - val_loss: 0.0059 - val_accuracy: 0.9990 - lr: 5.0000e-04\n",
      "Epoch 8/20\n",
      "215/215 [==============================] - 38s 176ms/step - loss: 0.0144 - accuracy: 0.9958 - val_loss: 0.0185 - val_accuracy: 0.9943 - lr: 5.0000e-04\n",
      "Epoch 9/20\n",
      "215/215 [==============================] - ETA: 0s - loss: 0.0142 - accuracy: 0.9955\n",
      "Epoch 9: ReduceLROnPlateau reducing learning rate to 0.0002500000118743628.\n",
      "215/215 [==============================] - 37s 174ms/step - loss: 0.0142 - accuracy: 0.9955 - val_loss: 0.0080 - val_accuracy: 0.9978 - lr: 5.0000e-04\n",
      "Epoch 10/20\n",
      "215/215 [==============================] - 38s 175ms/step - loss: 0.0096 - accuracy: 0.9972 - val_loss: 0.0084 - val_accuracy: 0.9961 - lr: 2.5000e-04\n",
      "Epoch 11/20\n",
      "215/215 [==============================] - ETA: 0s - loss: 0.0085 - accuracy: 0.9974\n",
      "Epoch 11: ReduceLROnPlateau reducing learning rate to 0.0001250000059371814.\n",
      "215/215 [==============================] - 38s 176ms/step - loss: 0.0085 - accuracy: 0.9974 - val_loss: 0.0056 - val_accuracy: 0.9989 - lr: 2.5000e-04\n",
      "Epoch 12/20\n",
      "215/215 [==============================] - 38s 175ms/step - loss: 0.0081 - accuracy: 0.9975 - val_loss: 0.0015 - val_accuracy: 1.0000 - lr: 1.2500e-04\n",
      "Epoch 13/20\n",
      "215/215 [==============================] - 37s 174ms/step - loss: 0.0064 - accuracy: 0.9985 - val_loss: 0.0022 - val_accuracy: 0.9999 - lr: 1.2500e-04\n",
      "Epoch 14/20\n",
      "215/215 [==============================] - ETA: 0s - loss: 0.0068 - accuracy: 0.9982\n",
      "Epoch 14: ReduceLROnPlateau reducing learning rate to 6.25000029685907e-05.\n",
      "215/215 [==============================] - 38s 179ms/step - loss: 0.0068 - accuracy: 0.9982 - val_loss: 0.0012 - val_accuracy: 1.0000 - lr: 1.2500e-04\n",
      "Epoch 15/20\n",
      "215/215 [==============================] - 38s 174ms/step - loss: 0.0058 - accuracy: 0.9984 - val_loss: 8.8574e-04 - val_accuracy: 1.0000 - lr: 6.2500e-05\n",
      "Epoch 16/20\n",
      "215/215 [==============================] - ETA: 0s - loss: 0.0059 - accuracy: 0.9983\n",
      "Epoch 16: ReduceLROnPlateau reducing learning rate to 3.125000148429535e-05.\n",
      "215/215 [==============================] - 38s 174ms/step - loss: 0.0059 - accuracy: 0.9983 - val_loss: 0.0011 - val_accuracy: 1.0000 - lr: 6.2500e-05\n",
      "Epoch 17/20\n",
      "215/215 [==============================] - 37s 174ms/step - loss: 0.0054 - accuracy: 0.9987 - val_loss: 8.5548e-04 - val_accuracy: 1.0000 - lr: 3.1250e-05\n",
      "Epoch 18/20\n",
      "215/215 [==============================] - ETA: 0s - loss: 0.0047 - accuracy: 0.9988\n",
      "Epoch 18: ReduceLROnPlateau reducing learning rate to 1.5625000742147677e-05.\n",
      "215/215 [==============================] - 39s 180ms/step - loss: 0.0047 - accuracy: 0.9988 - val_loss: 8.2936e-04 - val_accuracy: 1.0000 - lr: 3.1250e-05\n",
      "Epoch 19/20\n",
      "215/215 [==============================] - 38s 178ms/step - loss: 0.0045 - accuracy: 0.9989 - val_loss: 7.5860e-04 - val_accuracy: 1.0000 - lr: 1.5625e-05\n",
      "Epoch 20/20\n",
      "215/215 [==============================] - ETA: 0s - loss: 0.0050 - accuracy: 0.9987\n",
      "Epoch 20: ReduceLROnPlateau reducing learning rate to 1e-05.\n",
      "215/215 [==============================] - 38s 176ms/step - loss: 0.0050 - accuracy: 0.9987 - val_loss: 7.9849e-04 - val_accuracy: 1.0000 - lr: 1.5625e-05\n"
     ]
    },
    {
     "data": {
      "text/plain": [
       "<keras.src.callbacks.History at 0x1a2d72ac880>"
      ]
     },
     "execution_count": 89,
     "metadata": {},
     "output_type": "execute_result"
    }
   ],
   "source": [
    "learning_rate_reduction = ReduceLROnPlateau(monitor='val_accuracy', patience = 2, verbose=1,factor=0.5, min_lr=0.00001)\n",
    "\n",
    "model.fit(datagen.flow(X_train, y_train, batch_size=128),\n",
    "          epochs = 20,\n",
    "          validation_data=(X_test, y_test),\n",
    "          shuffle=1,\n",
    "          callbacks = [learning_rate_reduction]\n",
    "         )"
   ]
  },
  {
   "cell_type": "code",
   "execution_count": 90,
   "id": "bb5f04bb-7f61-4cd8-a1db-cd4b03517b3a",
   "metadata": {},
   "outputs": [
    {
     "name": "stdout",
     "output_type": "stream",
     "text": [
      "225/225 [==============================] - 3s 14ms/step - loss: 7.9849e-04 - accuracy: 1.0000\n",
      "Accuracy of the model is -  100.0 %\n"
     ]
    }
   ],
   "source": [
    "print(\"Accuracy of the model is - \" , model.evaluate(X_test,y_test)[1]*100 , \"%\")"
   ]
  },
  {
   "cell_type": "code",
   "execution_count": 91,
   "id": "6a830d41-1523-4294-acee-ce5ef039d164",
   "metadata": {},
   "outputs": [
    {
     "name": "stderr",
     "output_type": "stream",
     "text": [
      "D:\\Anaconda3\\envs\\sc4031\\lib\\site-packages\\keras\\src\\engine\\training.py:3000: UserWarning: You are saving your model as an HDF5 file via `model.save()`. This file format is considered legacy. We recommend using instead the native Keras format, e.g. `model.save('my_model.keras')`.\n",
      "  saving_api.save_model(\n"
     ]
    }
   ],
   "source": [
    "model.save(\"asl_mnist_100.h5\")"
   ]
  },
  {
   "cell_type": "markdown",
   "id": "b2aa5b29-f2ff-4933-911d-b68244352b9c",
   "metadata": {},
   "source": [
    "## Attempt 1 (Fail?)"
   ]
  },
  {
   "cell_type": "code",
   "execution_count": 73,
   "id": "902496f0-d4e6-4ee5-ab92-08590b8ee493",
   "metadata": {},
   "outputs": [
    {
     "name": "stdout",
     "output_type": "stream",
     "text": [
      "Epoch 1/20\n",
      "215/215 [==============================] - 45s 199ms/step - loss: 3.1769 - accuracy: 0.0471 - val_loss: 3.2569 - val_accuracy: 0.0201\n",
      "Epoch 2/20\n",
      "215/215 [==============================] - 42s 194ms/step - loss: 3.1760 - accuracy: 0.0463 - val_loss: 3.2713 - val_accuracy: 0.0201\n",
      "Epoch 3/20\n",
      "215/215 [==============================] - 39s 180ms/step - loss: 3.1760 - accuracy: 0.0460 - val_loss: 3.2698 - val_accuracy: 0.0201\n",
      "Epoch 4/20\n",
      "215/215 [==============================] - 39s 180ms/step - loss: 3.1759 - accuracy: 0.0453 - val_loss: 3.2767 - val_accuracy: 0.0201\n",
      "Epoch 5/20\n",
      "215/215 [==============================] - 40s 185ms/step - loss: 3.1761 - accuracy: 0.0467 - val_loss: 3.2727 - val_accuracy: 0.0201\n",
      "Epoch 6/20\n",
      "215/215 [==============================] - 39s 179ms/step - loss: 3.1760 - accuracy: 0.0453 - val_loss: 3.2780 - val_accuracy: 0.0201\n",
      "Epoch 7/20\n",
      "215/215 [==============================] - 39s 179ms/step - loss: 3.1759 - accuracy: 0.0460 - val_loss: 3.2783 - val_accuracy: 0.0201\n",
      "Epoch 8/20\n",
      "215/215 [==============================] - 38s 178ms/step - loss: 3.1759 - accuracy: 0.0457 - val_loss: 3.2723 - val_accuracy: 0.0201\n",
      "Epoch 9/20\n",
      "215/215 [==============================] - 40s 185ms/step - loss: 3.1759 - accuracy: 0.0459 - val_loss: 3.2791 - val_accuracy: 0.0201\n",
      "Epoch 10/20\n",
      "215/215 [==============================] - 39s 180ms/step - loss: 3.1758 - accuracy: 0.0469 - val_loss: 3.2773 - val_accuracy: 0.0201\n",
      "Epoch 11/20\n",
      "215/215 [==============================] - 39s 181ms/step - loss: 3.1758 - accuracy: 0.0460 - val_loss: 3.2822 - val_accuracy: 0.0201\n",
      "Epoch 12/20\n",
      "215/215 [==============================] - 39s 181ms/step - loss: 3.1758 - accuracy: 0.0465 - val_loss: 3.2803 - val_accuracy: 0.0201\n",
      "Epoch 13/20\n",
      "215/215 [==============================] - 39s 182ms/step - loss: 3.1758 - accuracy: 0.0468 - val_loss: 3.2807 - val_accuracy: 0.0201\n",
      "Epoch 14/20\n",
      "215/215 [==============================] - 39s 182ms/step - loss: 3.1758 - accuracy: 0.0471 - val_loss: 3.2802 - val_accuracy: 0.0201\n",
      "Epoch 15/20\n",
      "215/215 [==============================] - 39s 181ms/step - loss: 3.1758 - accuracy: 0.0466 - val_loss: 3.2804 - val_accuracy: 0.0201\n",
      "Epoch 16/20\n",
      "215/215 [==============================] - 41s 189ms/step - loss: 3.1758 - accuracy: 0.0471 - val_loss: 3.2810 - val_accuracy: 0.0201\n",
      "Epoch 17/20\n",
      "215/215 [==============================] - 40s 186ms/step - loss: 3.1758 - accuracy: 0.0472 - val_loss: 3.2808 - val_accuracy: 0.0201\n",
      "Epoch 18/20\n",
      "215/215 [==============================] - 39s 180ms/step - loss: 3.1757 - accuracy: 0.0471 - val_loss: 3.2828 - val_accuracy: 0.0201\n",
      "Epoch 19/20\n",
      "215/215 [==============================] - 39s 182ms/step - loss: 3.1757 - accuracy: 0.0472 - val_loss: 3.2845 - val_accuracy: 0.0201\n",
      "Epoch 20/20\n",
      "215/215 [==============================] - 40s 188ms/step - loss: 3.1757 - accuracy: 0.0473 - val_loss: 3.2850 - val_accuracy: 0.0201\n"
     ]
    },
    {
     "data": {
      "text/plain": [
       "<keras.src.callbacks.History at 0x1a2c3682be0>"
      ]
     },
     "execution_count": 73,
     "metadata": {},
     "output_type": "execute_result"
    }
   ],
   "source": [
    "model.fit(datagen.flow(X_train, y_train, batch_size=128),\n",
    "          epochs = 20,\n",
    "          validation_data=(X_test, y_test),\n",
    "          shuffle=1\n",
    "         )"
   ]
  },
  {
   "cell_type": "markdown",
   "id": "8991bafb-0e38-4736-80af-aff408670012",
   "metadata": {},
   "source": [
    "### Model Evaluation"
   ]
  },
  {
   "cell_type": "code",
   "execution_count": 81,
   "id": "18c65d53-dea0-42ab-b156-52cc9a12bcd9",
   "metadata": {},
   "outputs": [
    {
     "name": "stdout",
     "output_type": "stream",
     "text": [
      "Test Accuracy: 15.658114850521088%\n"
     ]
    }
   ],
   "source": [
    "score = model.evaluate(X_test, y_test, verbose=0)\n",
    "print(f'Test Accuracy: {score[1]*100}%')"
   ]
  },
  {
   "cell_type": "markdown",
   "id": "ed6b74da-aa0c-4474-99cd-997926708fa4",
   "metadata": {},
   "source": [
    "# Webcam Test with Mediapipe"
   ]
  },
  {
   "cell_type": "markdown",
   "id": "32e09ccc-e26c-4c25-a4c7-88f4a3e43a11",
   "metadata": {},
   "source": [
    "## Load Model (if needed)"
   ]
  },
  {
   "cell_type": "code",
   "execution_count": 126,
   "id": "f22b723c-04b0-404e-a906-523b4ac46c6f",
   "metadata": {},
   "outputs": [],
   "source": [
    "model = load_model(\"./output/asl_mnist_100.h5\")\n",
    "# model = load_model(\"./output/asl_mnist_98.h5\")"
   ]
  },
  {
   "cell_type": "markdown",
   "id": "0893bee8-5598-4637-aa10-6944c073fa41",
   "metadata": {},
   "source": [
    "## Setup Mediapipe"
   ]
  },
  {
   "cell_type": "code",
   "execution_count": 89,
   "id": "37c19292-7725-4b72-83e9-e7cbf8e4b74c",
   "metadata": {},
   "outputs": [],
   "source": [
    "mp_hands = mp.solutions.hands\n",
    "mp_drawing = mp.solutions.drawing_utils\n",
    "\n",
    "hands = mp_hands.Hands()"
   ]
  },
  {
   "cell_type": "markdown",
   "id": "6d7ad841-cdcd-4712-91de-1fe301305cd6",
   "metadata": {},
   "source": [
    "## Pre-Process Image/Frame"
   ]
  },
  {
   "cell_type": "code",
   "execution_count": 90,
   "id": "d322e7ad-af20-47bc-b7f4-7bc544c48e3b",
   "metadata": {},
   "outputs": [],
   "source": [
    "def preprocess_image(frame):\n",
    "    # Convert image to RGB format\n",
    "    img = cv2.cvtColor(frame, cv2.COLOR_BGR2RGB)\n",
    "    \n",
    "    # Normalize pixel values to [0, 1]\n",
    "    img = img.astype(np.float32) / 255.0\n",
    "\n",
    "    # Resize (just need 28x28 since our dataset has a total of 784 pixels)\n",
    "    img = cv2.resize(img, (28, 28))\n",
    "\n",
    "    # Reshape\n",
    "    # img = np.reshape(img, (-1, 28, 28, 1))\n",
    "    \n",
    "    return img"
   ]
  },
  {
   "cell_type": "code",
   "execution_count": 149,
   "id": "1d3fd895-0d66-498c-b9b7-e66850b772e2",
   "metadata": {},
   "outputs": [],
   "source": [
    "def convert_img_to_pixels(img):\n",
    "    pixel_list = []\n",
    "    rows, cols = img.shape\n",
    "\n",
    "    for i in range(rows):\n",
    "        for j in range(cols):\n",
    "            pixel_value = img[i, j]\n",
    "            pixel_list.append(pixel_value)\n",
    "\n",
    "    img_pd = pd.DataFrame(pixel_list).T\n",
    "\n",
    "    # Generate column names (784 columns for each pixel)\n",
    "    pixel_cols = []\n",
    "    for val in range(784):\n",
    "        pixel_cols.append(val)\n",
    "\n",
    "    # Set pd columns as pixel numbers\n",
    "    img_pd.columns = pixel_cols\n",
    "\n",
    "    predict_data = img_pd.values\n",
    "    predict_data = predict_data.reshape(-1, 28, 28, 1)\n",
    "    predict_data = predict_data / 255 # Normalize to [0, 1]\n",
    "\n",
    "    return predict_data"
   ]
  },
  {
   "cell_type": "markdown",
   "id": "bec419f3-2d58-4208-bf12-f25db92044bd",
   "metadata": {},
   "source": [
    "## Load Video Capture"
   ]
  },
  {
   "cell_type": "code",
   "execution_count": 175,
   "id": "7c1478aa-75d4-4408-b8ee-af1e9b79e703",
   "metadata": {},
   "outputs": [],
   "source": [
    "import time\n",
    "import math\n",
    "from cvzone.HandTrackingModule import HandDetector\n",
    "\n",
    "label_list = ['A', 'B', 'C', 'D', 'E', 'F', 'G', 'H', 'I', 'K', 'L', 'M', 'N', 'O', 'P', 'Q', 'R', 'S', 'T', 'U', 'V', 'W', 'X', 'Y']"
   ]
  },
  {
   "cell_type": "markdown",
   "id": "ccff50c8-c56f-4f80-b485-ebea4014b45c",
   "metadata": {},
   "source": [
    "## Use cvzone"
   ]
  },
  {
   "cell_type": "code",
   "execution_count": 179,
   "id": "fe94cb60-79ce-490c-87dd-6e57f5ebe015",
   "metadata": {},
   "outputs": [],
   "source": [
    "cap = cv2.VideoCapture(0)\n",
    "detector = HandDetector(maxHands=1)\n",
    "IMG_SIZE = 300\n",
    "\n",
    "while True:\n",
    "    success, frame = cap.read()\n",
    "    hands, frame = detector.findHands(frame)\n",
    "\n",
    "    if hands:\n",
    "        hand = hands[0]\n",
    "        x, y, w, h = hand['bbox']\n",
    "\n",
    "        # Get bounding box for detected hand\n",
    "        offset = 20\n",
    "        frame_crop = frame[y-offset:y+h+offset, x-offset:x+w+offset]\n",
    "        frame_crop_shape = frame_crop.shape\n",
    "        \n",
    "        frame_white = np.ones((IMG_SIZE, IMG_SIZE, 3), np.uint8) * 255\n",
    "    \n",
    "        aspect_ratio = h/w\n",
    "\n",
    "        if aspect_ratio > 1:\n",
    "            k = IMG_SIZE/h\n",
    "            w_cal = math.ceil(k*w)\n",
    "            w_gap = math.ceil((IMG_SIZE-w_cal)/2)\n",
    "\n",
    "            frame_resize = cv2.resize(frame_crop, (w_cal, IMG_SIZE))\n",
    "            frame_resize_shape = frame_resize.shape\n",
    "            \n",
    "            if frame_crop_shape[0] <= 300 and frame_crop_shape[1] <= 300:\n",
    "                frame_white[:, w_gap:w_cal+w_gap] = frame_resize\n",
    "\n",
    "        else:\n",
    "            k = IMG_SIZE/w\n",
    "            h_cal = math.ceil(k*h)\n",
    "            h_gap = math.ceil((IMG_SIZE-h_cal)/2)\n",
    "\n",
    "            frame_resize = cv2.resize(frame_crop, (IMG_SIZE, h_cal))\n",
    "            frame_resize_shape = frame_resize.shape\n",
    "            \n",
    "            if frame_crop_shape[0] <= 300 and frame_crop_shape[1] <= 300:\n",
    "                frame_white[h_gap:h_cal+h_gap, :] = frame_resize\n",
    "\n",
    "        cv2.imshow(\"Cropped\", frame_crop)\n",
    "        cv2.imshow(\"White\", frame_white)\n",
    "        \n",
    "    \n",
    "    cv2.imshow(\"Webcam\", frame)\n",
    "\n",
    "    # Break the loop when 'q' is pressed\n",
    "    if cv2.waitKey(1) & 0xFF == ord('q'):\n",
    "        break \n",
    "\n",
    "# Release the webcam and close all windows\n",
    "cap.release()\n",
    "cv2.destroyAllWindows()"
   ]
  },
  {
   "cell_type": "markdown",
   "id": "bf583bd6-6e55-4853-a7e9-5be5b86accb5",
   "metadata": {},
   "source": [
    "## Use Mediapipe"
   ]
  },
  {
   "cell_type": "code",
   "execution_count": null,
   "id": "66d70c27-3be5-4c60-8d93-9fb39deb7ce8",
   "metadata": {},
   "outputs": [],
   "source": [
    "cap = cv2.VideoCapture(0)\n",
    "label_list = ['A', 'B', 'C', 'D', 'E', 'F', 'G', 'H', 'I', 'K', 'L', 'M', 'N', 'O', 'P', 'Q', 'R', 'S', 'T', 'U', 'V', 'W', 'X', 'Y']\n",
    "\n",
    "\n",
    "with mp_hands.Hands() as hands:\n",
    "    while True:\n",
    "        # Capture frame by frame\n",
    "        ret, frame = cap.read()\n",
    "        h, w, c = frame.shape\n",
    "\n",
    "        # img = preprocess_image(frame)\n",
    "        img = cv2.cvtColor(frame, cv2.COLOR_BGR2RGB)\n",
    "        results = hands.process(img)\n",
    "\n",
    "        #if cv2.waitKey(1) & 0xFF == ord('f'):\n",
    "        # Check Left or Right\n",
    "        #print(f\"Handedness: ${results.multi_handedness}\")\n",
    "\n",
    "        hand_landmarks = results.multi_hand_landmarks\n",
    "        if hand_landmarks:\n",
    "            analysis_frame = frame\n",
    "\n",
    "            for hand_lm in hand_landmarks:\n",
    "                x_max = 0\n",
    "                y_max = 0\n",
    "                x_min = w\n",
    "                y_min = h\n",
    "                for lm in hand_lm.landmark:\n",
    "                    x, y = int(lm.x * w), int(lm.y * h)\n",
    "                    if x > x_max:\n",
    "                        x_max = x\n",
    "                    if x < x_min:\n",
    "                        x_min = x\n",
    "                    if y > y_max:\n",
    "                        y_max = y\n",
    "                    if y < y_min:\n",
    "                        y_min = y\n",
    "                        \n",
    "                y_min -= 20\n",
    "                y_max += 20\n",
    "                x_min -= 20\n",
    "                x_max += 20\n",
    "                cv2.rectangle(frame, (x_min, y_min), (x_max, y_max), (0, 255, 0), 2)\n",
    "                mp_drawing.draw_landmarks(frame, hand_lm, mp_hands.HAND_CONNECTIONS)\n",
    "\n",
    "        \n",
    "        cv2.imshow('Webcam', frame)\n",
    "    \n",
    "        # Break the loop when 'q' is pressed\n",
    "        if cv2.waitKey(1) & 0xFF == ord('q'):\n",
    "            break \n",
    "\n",
    "# Release the webcam and close all windows\n",
    "cap.release()\n",
    "cv2.destroyAllWindows()"
   ]
  },
  {
   "cell_type": "code",
   "execution_count": 164,
   "id": "a1b75230-5586-41b7-bd93-14ff11fa21ba",
   "metadata": {
    "scrolled": true
   },
   "outputs": [
    {
     "ename": "error",
     "evalue": "OpenCV(4.9.0) D:\\a\\opencv-python\\opencv-python\\opencv\\modules\\highgui\\src\\window.cpp:971: error: (-215:Assertion failed) size.width>0 && size.height>0 in function 'cv::imshow'\n",
     "output_type": "error",
     "traceback": [
      "\u001b[1;31m---------------------------------------------------------------------------\u001b[0m",
      "\u001b[1;31merror\u001b[0m                                     Traceback (most recent call last)",
      "Cell \u001b[1;32mIn[164], line 46\u001b[0m\n\u001b[0;32m     43\u001b[0m     cv2\u001b[38;5;241m.\u001b[39mrectangle(frame, (x_min, y_min), (x_max, y_max), (\u001b[38;5;241m0\u001b[39m, \u001b[38;5;241m255\u001b[39m, \u001b[38;5;241m0\u001b[39m), \u001b[38;5;241m2\u001b[39m)\n\u001b[0;32m     44\u001b[0m     mp_drawing\u001b[38;5;241m.\u001b[39mdraw_landmarks(frame, hand_lm, mp_hands\u001b[38;5;241m.\u001b[39mHAND_CONNECTIONS)\n\u001b[1;32m---> 46\u001b[0m     \u001b[43mcv2\u001b[49m\u001b[38;5;241;43m.\u001b[39;49m\u001b[43mimshow\u001b[49m\u001b[43m(\u001b[49m\u001b[38;5;124;43m\"\u001b[39;49m\u001b[38;5;124;43mImageCrop\u001b[39;49m\u001b[38;5;124;43m\"\u001b[39;49m\u001b[43m,\u001b[49m\u001b[43m \u001b[49m\u001b[43manalysis_frame\u001b[49m\u001b[43m[\u001b[49m\u001b[43my_min\u001b[49m\u001b[43m:\u001b[49m\u001b[43my_max\u001b[49m\u001b[43m,\u001b[49m\u001b[43m \u001b[49m\u001b[43mx_min\u001b[49m\u001b[43m:\u001b[49m\u001b[43mx_max\u001b[49m\u001b[43m]\u001b[49m\u001b[43m)\u001b[49m\n\u001b[0;32m     48\u001b[0m \u001b[38;5;28;01mif\u001b[39;00m cv2\u001b[38;5;241m.\u001b[39mwaitKey(\u001b[38;5;241m1\u001b[39m) \u001b[38;5;241m&\u001b[39m \u001b[38;5;241m0xFF\u001b[39m \u001b[38;5;241m==\u001b[39m \u001b[38;5;28mord\u001b[39m(\u001b[38;5;124m'\u001b[39m\u001b[38;5;124mf\u001b[39m\u001b[38;5;124m'\u001b[39m):\n\u001b[0;32m     49\u001b[0m \u001b[38;5;250m    \u001b[39m\u001b[38;5;124;03m'''\u001b[39;00m\n\u001b[0;32m     50\u001b[0m \u001b[38;5;124;03m    for hand_lm in hand_landmarks:\u001b[39;00m\n\u001b[0;32m     51\u001b[0m \u001b[38;5;124;03m        x_max = 0\u001b[39;00m\n\u001b[1;32m   (...)\u001b[0m\n\u001b[0;32m     71\u001b[0m \u001b[38;5;124;03m        mp_drawing.draw_landmarks(frame, hand_lm, mp_hands.HAND_CONNECTIONS)\u001b[39;00m\n\u001b[0;32m     72\u001b[0m \u001b[38;5;124;03m        '''\u001b[39;00m\n",
      "\u001b[1;31merror\u001b[0m: OpenCV(4.9.0) D:\\a\\opencv-python\\opencv-python\\opencv\\modules\\highgui\\src\\window.cpp:971: error: (-215:Assertion failed) size.width>0 && size.height>0 in function 'cv::imshow'\n"
     ]
    }
   ],
   "source": [
    "cap = cv2.VideoCapture(0)\n",
    "label_list = ['A', 'B', 'C', 'D', 'E', 'F', 'G', 'H', 'I', 'K', 'L', 'M', 'N', 'O', 'P', 'Q', 'R', 'S', 'T', 'U', 'V', 'W', 'X', 'Y']\n",
    "\n",
    "\n",
    "with mp_hands.Hands() as hands:\n",
    "    while True:\n",
    "        # Capture frame by frame\n",
    "        ret, frame = cap.read()\n",
    "        h, w, c = frame.shape\n",
    "\n",
    "        # img = preprocess_image(frame)\n",
    "        img = cv2.cvtColor(frame, cv2.COLOR_BGR2RGB)\n",
    "        results = hands.process(img)\n",
    "\n",
    "        #if cv2.waitKey(1) & 0xFF == ord('f'):\n",
    "        # Check Left or Right\n",
    "        #print(f\"Handedness: ${results.multi_handedness}\")\n",
    "\n",
    "        hand_landmarks = results.multi_hand_landmarks\n",
    "        if hand_landmarks:\n",
    "            analysis_frame = frame\n",
    "\n",
    "            for hand_lm in hand_landmarks:\n",
    "                x_max = 0\n",
    "                y_max = 0\n",
    "                x_min = w\n",
    "                y_min = h\n",
    "                for lm in hand_lm.landmark:\n",
    "                    x, y = int(lm.x * w), int(lm.y * h)\n",
    "                    if x > x_max:\n",
    "                        x_max = x\n",
    "                    if x < x_min:\n",
    "                        x_min = x\n",
    "                    if y > y_max:\n",
    "                        y_max = y\n",
    "                    if y < y_min:\n",
    "                        y_min = y\n",
    "                        \n",
    "                y_min -= 20\n",
    "                y_max += 20\n",
    "                x_min -= 20\n",
    "                x_max += 20\n",
    "                cv2.rectangle(frame, (x_min, y_min), (x_max, y_max), (0, 255, 0), 2)\n",
    "                mp_drawing.draw_landmarks(frame, hand_lm, mp_hands.HAND_CONNECTIONS)\n",
    "            \n",
    "            if cv2.waitKey(1) & 0xFF == ord('f'):\n",
    "                '''\n",
    "                for hand_lm in hand_landmarks:\n",
    "                    x_max = 0\n",
    "                    y_max = 0\n",
    "                    x_min = w\n",
    "                    y_min = h\n",
    "                    for lm in hand_lm.landmark:\n",
    "                        x, y = int(lm.x * w), int(lm.y * h)\n",
    "                        if x > x_max:\n",
    "                            x_max = x\n",
    "                        if x < x_min:\n",
    "                            x_min = x\n",
    "                        if y > y_max:\n",
    "                            y_max = y\n",
    "                        if y < y_min:\n",
    "                            y_min = y\n",
    "                            \n",
    "                    y_min -= 20\n",
    "                    y_max += 20\n",
    "                    x_min -= 20\n",
    "                    x_max += 20\n",
    "                    cv2.rectangle(frame, (x_min, y_min), (x_max, y_max), (0, 255, 0), 2)\n",
    "                    mp_drawing.draw_landmarks(frame, hand_lm, mp_hands.HAND_CONNECTIONS)\n",
    "                    '''\n",
    "    \n",
    "                # Set Frame to Analyse as Cropped Hand\n",
    "                # analysis_frame = cv2.cvtColor(frame[y_min:y_max, x_min:x_max], cv2.COLOR_BGR2GRAY)'\n",
    "\n",
    "                \n",
    "                analysis_frame = cv2.cvtColor(analysis_frame, cv2.COLOR_BGR2GRAY)\n",
    "                analysis_frame = analysis_frame[y_min:y_max, x_min:x_max]\n",
    "\n",
    "                if(analysis_frame.size):\n",
    "                    analysis_frame = cv2.resize(analysis_frame, (28, 28))\n",
    "    \n",
    "                    # Pre-process image for prediction \n",
    "                    # analysis_frame = preprocess_image(analysis_frame)\n",
    "    \n",
    "                    predict_frame = convert_img_to_pixels(analysis_frame)\n",
    "            \n",
    "                    # Prediction\n",
    "                    predictions = model.predict(predict_frame)\n",
    "                    pred_array = np.array(predictions[0])\n",
    "    \n",
    "                    label_list_dict = {label_list[i]: pred_array[i] for i in range(len(label_list))}\n",
    "    \n",
    "                    pred_array_ordered = sorted(pred_array, reverse=True)\n",
    "\n",
    "                    print(pred_array_ordered[0])\n",
    "    \n",
    "                    for key, value in label_list_dict.items():\n",
    "                        print(value)\n",
    "                        if value == pred_array_ordered[0]:\n",
    "                            #print(\"Predicted Character 1: \", key)\n",
    "                            #print('Confidence 1: ', 100*value)\n",
    "\n",
    "                            if(key == \"P\"):\n",
    "                                cv2.putText(frame, key, (50, 50), cv2.FONT_HERSHEY_SIMPLEX, 1, (0, 255, 0), 2)\n",
    "                            else:\n",
    "                                cv2.putText(frame, key, (50, 50), cv2.FONT_HERSHEY_SIMPLEX, 1, (0, 255, 0), 2)\n",
    "                            \n",
    "                        #elif value == pred_array_ordered[1]:\n",
    "                            #print(\"Predicted Character 2: \", key)\n",
    "                            #print('Confidence 2: ', 100*value)\n",
    "                            \n",
    "                        #elif value == pred_array_ordered[2]:\n",
    "                            #print(\"Predicted Character 3: \", key)\n",
    "                            #print('Confidence 3: ', 100*value)\n",
    "\n",
    "                    \n",
    "    \n",
    "                    '''\n",
    "                    predicted_class_index = np.argmax(predictions)\n",
    "                    # Map the predicted index to class label\n",
    "                    predicted_label = labels[predicted_class_index]\n",
    "                    \n",
    "                    # Print the predicted label\n",
    "                    print(\"Predicted label:\", predicted_label)\n",
    "                    '''\n",
    "                    \n",
    "                    '''\n",
    "                    predarray = np.array(prediction[0])\n",
    "                    letter_prediction_dict = {letterpred[i]: predarray[i] for i in range(len(letterpred))}\n",
    "                    predarrayordered = sorted(predarray, reverse=True)\n",
    "                    high1 = predarrayordered[0]\n",
    "                    high2 = predarrayordered[1]\n",
    "                    high3 = predarrayordered[2]\n",
    "                    for key,value in letter_prediction_dict.items():\n",
    "                        if value==high1:\n",
    "                            print(\"Predicted Character 1: \", key)\n",
    "                            print('Confidence 1: ', value)\n",
    "    \n",
    "                    '''\n",
    "                    # time.sleep(3)\n",
    "        \n",
    "        cv2.imshow('Webcam', frame)\n",
    "    \n",
    "        # Break the loop when 'q' is pressed\n",
    "        if cv2.waitKey(1) & 0xFF == ord('q'):\n",
    "            break \n",
    "\n",
    "# Release the webcam and close all windows\n",
    "cap.release()\n",
    "cv2.destroyAllWindows()"
   ]
  },
  {
   "cell_type": "code",
   "execution_count": null,
   "id": "19fc577e-6fc9-43bb-9888-52d0bf7a0211",
   "metadata": {},
   "outputs": [],
   "source": []
  }
 ],
 "metadata": {
  "kernelspec": {
   "display_name": "Python 3 (ipykernel)",
   "language": "python",
   "name": "python3"
  },
  "language_info": {
   "codemirror_mode": {
    "name": "ipython",
    "version": 3
   },
   "file_extension": ".py",
   "mimetype": "text/x-python",
   "name": "python",
   "nbconvert_exporter": "python",
   "pygments_lexer": "ipython3",
   "version": "3.8.19"
  }
 },
 "nbformat": 4,
 "nbformat_minor": 5
}
