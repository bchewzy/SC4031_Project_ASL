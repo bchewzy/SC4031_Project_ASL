{
 "cells": [
  {
   "cell_type": "code",
   "execution_count": 1,
   "id": "cb64ae8b-1ae5-441a-b801-ee454b11f9cb",
   "metadata": {},
   "outputs": [],
   "source": [
    "import os\n",
    "import numpy as np\n",
    "import pandas as pd\n",
    "import glob\n",
    "import csv\n",
    "import time\n",
    "\n",
    "import matplotlib.pyplot as plt\n",
    "\n",
    "from sklearn.preprocessing import LabelBinarizer\n",
    "from keras.preprocessing.image import ImageDataGenerator\n",
    "from keras.models import Sequential, load_model, Model\n",
    "from keras.layers import Dense, Conv2D, MaxPool2D, Flatten, Dropout, BatchNormalization\n",
    "from keras.callbacks import ReduceLROnPlateau\n",
    "\n",
    "import cv2\n",
    "import mediapipe as mp"
   ]
  },
  {
   "cell_type": "code",
   "execution_count": 20,
   "id": "7696d2ea-f565-40e2-a448-c56399d1ef23",
   "metadata": {},
   "outputs": [],
   "source": [
    "TRAIN_DIR = \"./output/train_second/\"\n",
    "TEST_DIR = \"./output/test/\"\n",
    "IMG_SIZE = 48"
   ]
  },
  {
   "cell_type": "code",
   "execution_count": 26,
   "id": "d9d4b1ae-8da4-4657-9a68-3eae6abf147d",
   "metadata": {},
   "outputs": [
    {
     "name": "stdout",
     "output_type": "stream",
     "text": [
      "Found 2230 images belonging to 24 classes.\n",
      "Found 1967 images belonging to 24 classes.\n"
     ]
    }
   ],
   "source": [
    "train_datagen = ImageDataGenerator(rescale=1./255,\n",
    "                                   rotation_range=3,\n",
    "                                   horizontal_flip=True,\n",
    "                                   fill_mode='nearest')\n",
    "\n",
    "test_datagen = ImageDataGenerator(rescale=1./255)\n",
    "\n",
    "batch_size = 128\n",
    "\n",
    "train_gen = train_datagen.flow_from_directory(\n",
    "    TRAIN_DIR,\n",
    "    target_size=(48, 48),\n",
    "    batch_size=batch_size,\n",
    "    class_mode='categorical',\n",
    "    color_mode='grayscale'\n",
    ")\n",
    "\n",
    "test_gen = test_datagen.flow_from_directory(\n",
    "    TEST_DIR,\n",
    "    target_size=(48, 48),\n",
    "    batch_size=batch_size,\n",
    "    class_mode='categorical',\n",
    "    color_mode='grayscale'\n",
    ")"
   ]
  },
  {
   "cell_type": "code",
   "execution_count": 15,
   "id": "92829ea4-e51c-459f-9c8c-f024dfdc08b9",
   "metadata": {},
   "outputs": [
    {
     "name": "stdout",
     "output_type": "stream",
     "text": [
      "['B', 'D', 'E']\n"
     ]
    }
   ],
   "source": [
    "labels = list(train_gen.class_indices.keys())\n",
    "print(labels)"
   ]
  },
  {
   "cell_type": "code",
   "execution_count": 5,
   "id": "768e220d-504f-4b8e-b3b2-390665b77617",
   "metadata": {},
   "outputs": [
    {
     "name": "stdout",
     "output_type": "stream",
     "text": [
      "Model: \"sequential\"\n",
      "_________________________________________________________________\n",
      " Layer (type)                Output Shape              Param #   \n",
      "=================================================================\n",
      " conv2d (Conv2D)             (None, 48, 48, 128)       3328      \n",
      "                                                                 \n",
      " max_pooling2d (MaxPooling2  (None, 24, 24, 128)       0         \n",
      " D)                                                              \n",
      "                                                                 \n",
      " dropout (Dropout)           (None, 24, 24, 128)       0         \n",
      "                                                                 \n",
      " conv2d_1 (Conv2D)           (None, 24, 24, 64)        32832     \n",
      "                                                                 \n",
      " max_pooling2d_1 (MaxPoolin  (None, 12, 12, 64)        0         \n",
      " g2D)                                                            \n",
      "                                                                 \n",
      " dropout_1 (Dropout)         (None, 12, 12, 64)        0         \n",
      "                                                                 \n",
      " conv2d_2 (Conv2D)           (None, 12, 12, 32)        8224      \n",
      "                                                                 \n",
      " max_pooling2d_2 (MaxPoolin  (None, 6, 6, 32)          0         \n",
      " g2D)                                                            \n",
      "                                                                 \n",
      " dropout_2 (Dropout)         (None, 6, 6, 32)          0         \n",
      "                                                                 \n",
      " flatten (Flatten)           (None, 1152)              0         \n",
      "                                                                 \n",
      " dense (Dense)               (None, 512)               590336    \n",
      "                                                                 \n",
      " dropout_3 (Dropout)         (None, 512)               0         \n",
      "                                                                 \n",
      " dense_1 (Dense)             (None, 24)                12312     \n",
      "                                                                 \n",
      "=================================================================\n",
      "Total params: 647032 (2.47 MB)\n",
      "Trainable params: 647032 (2.47 MB)\n",
      "Non-trainable params: 0 (0.00 Byte)\n",
      "_________________________________________________________________\n"
     ]
    }
   ],
   "source": [
    "model2 = Sequential()\n",
    "model2.add(Conv2D(128, kernel_size=(5,5),\n",
    "                 strides=1, padding='same', activation='relu', input_shape=(48,48,1)))\n",
    "model2.add(MaxPool2D(pool_size=(4,4), strides=2, padding='same'))\n",
    "model2.add(Dropout(0.4))\n",
    "\n",
    "model2.add(Conv2D(64, kernel_size=(2,2),\n",
    "                 strides=1, activation='relu', padding='same'))\n",
    "model2.add(MaxPool2D((4,4), 2, padding='same'))\n",
    "model2.add(Dropout(0.4))\n",
    "\n",
    "model2.add(Conv2D(32, kernel_size=(2,2),\n",
    "                 strides=1, activation='relu', padding='same'))\n",
    "model2.add(MaxPool2D((4,4), 2, padding='same'))\n",
    "model2.add(Dropout(0.4))\n",
    "          \n",
    "model2.add(Flatten())\n",
    "model2.add(Dense(units=512,activation='relu'))\n",
    "model2.add(Dropout(rate=0.25))\n",
    "model2.add(Dense(units=24,activation='softmax'))\n",
    "model2.summary()\n",
    "\n",
    "model2.compile(optimizer = 'adam' , loss = 'categorical_crossentropy' , metrics = ['accuracy'])"
   ]
  },
  {
   "cell_type": "code",
   "execution_count": 80,
   "id": "ce3f464c-ee5a-44f9-8cff-b8562cfea04d",
   "metadata": {},
   "outputs": [
    {
     "name": "stdout",
     "output_type": "stream",
     "text": [
      "Epoch 1/20\n",
      "225/225 [==============================] - 274s 1s/step - loss: 1.9754 - accuracy: 0.3655 - val_loss: 0.8952 - val_accuracy: 0.7510 - lr: 0.0010\n",
      "Epoch 2/20\n",
      "225/225 [==============================] - 142s 632ms/step - loss: 0.7305 - accuracy: 0.7333 - val_loss: 0.6914 - val_accuracy: 0.7937 - lr: 0.0010\n",
      "Epoch 3/20\n",
      "225/225 [==============================] - 149s 663ms/step - loss: 0.4406 - accuracy: 0.8420 - val_loss: 0.7170 - val_accuracy: 0.7906 - lr: 0.0010\n",
      "Epoch 4/20\n",
      "225/225 [==============================] - 147s 651ms/step - loss: 0.3152 - accuracy: 0.8880 - val_loss: 0.6842 - val_accuracy: 0.8177 - lr: 0.0010\n",
      "Epoch 5/20\n",
      "225/225 [==============================] - 154s 682ms/step - loss: 0.2255 - accuracy: 0.9203 - val_loss: 0.6232 - val_accuracy: 0.7969 - lr: 0.0010\n",
      "Epoch 6/20\n",
      "225/225 [==============================] - ETA: 0s - loss: 0.1934 - accuracy: 0.9320\n",
      "Epoch 6: ReduceLROnPlateau reducing learning rate to 0.0005000000237487257.\n",
      "225/225 [==============================] - 162s 718ms/step - loss: 0.1934 - accuracy: 0.9320 - val_loss: 0.6418 - val_accuracy: 0.8172 - lr: 0.0010\n",
      "Epoch 7/20\n",
      "225/225 [==============================] - 163s 723ms/step - loss: 0.1457 - accuracy: 0.9479 - val_loss: 0.5528 - val_accuracy: 0.8516 - lr: 5.0000e-04\n",
      "Epoch 8/20\n",
      "225/225 [==============================] - 149s 661ms/step - loss: 0.1216 - accuracy: 0.9581 - val_loss: 0.5924 - val_accuracy: 0.8464 - lr: 5.0000e-04\n",
      "Epoch 9/20\n",
      "225/225 [==============================] - 140s 621ms/step - loss: 0.1156 - accuracy: 0.9599 - val_loss: 0.4552 - val_accuracy: 0.8667 - lr: 5.0000e-04\n",
      "Epoch 10/20\n",
      "225/225 [==============================] - 130s 576ms/step - loss: 0.1058 - accuracy: 0.9628 - val_loss: 0.5258 - val_accuracy: 0.8641 - lr: 5.0000e-04\n",
      "Epoch 11/20\n",
      "225/225 [==============================] - ETA: 0s - loss: 0.0970 - accuracy: 0.9663\n",
      "Epoch 11: ReduceLROnPlateau reducing learning rate to 0.0002500000118743628.\n",
      "225/225 [==============================] - 133s 588ms/step - loss: 0.0970 - accuracy: 0.9663 - val_loss: 0.6298 - val_accuracy: 0.8318 - lr: 5.0000e-04\n",
      "Epoch 12/20\n",
      "225/225 [==============================] - 132s 586ms/step - loss: 0.0762 - accuracy: 0.9744 - val_loss: 0.6254 - val_accuracy: 0.8443 - lr: 2.5000e-04\n",
      "Epoch 13/20\n",
      "225/225 [==============================] - ETA: 0s - loss: 0.0768 - accuracy: 0.9725\n",
      "Epoch 13: ReduceLROnPlateau reducing learning rate to 0.0001250000059371814.\n",
      "225/225 [==============================] - 133s 591ms/step - loss: 0.0768 - accuracy: 0.9725 - val_loss: 0.5663 - val_accuracy: 0.8615 - lr: 2.5000e-04\n",
      "Epoch 14/20\n",
      "225/225 [==============================] - 144s 637ms/step - loss: 0.0677 - accuracy: 0.9766 - val_loss: 0.5847 - val_accuracy: 0.8646 - lr: 1.2500e-04\n",
      "Epoch 15/20\n",
      "225/225 [==============================] - ETA: 0s - loss: 0.0654 - accuracy: 0.9775\n",
      "Epoch 15: ReduceLROnPlateau reducing learning rate to 6.25000029685907e-05.\n",
      "225/225 [==============================] - 145s 645ms/step - loss: 0.0654 - accuracy: 0.9775 - val_loss: 0.6021 - val_accuracy: 0.8557 - lr: 1.2500e-04\n",
      "Epoch 16/20\n",
      "225/225 [==============================] - 150s 667ms/step - loss: 0.0618 - accuracy: 0.9790 - val_loss: 0.6270 - val_accuracy: 0.8536 - lr: 6.2500e-05\n",
      "Epoch 17/20\n",
      "225/225 [==============================] - ETA: 0s - loss: 0.0641 - accuracy: 0.9781\n",
      "Epoch 17: ReduceLROnPlateau reducing learning rate to 3.125000148429535e-05.\n",
      "225/225 [==============================] - 144s 637ms/step - loss: 0.0641 - accuracy: 0.9781 - val_loss: 0.5816 - val_accuracy: 0.8573 - lr: 6.2500e-05\n",
      "Epoch 18/20\n",
      "225/225 [==============================] - 142s 630ms/step - loss: 0.0624 - accuracy: 0.9798 - val_loss: 0.6122 - val_accuracy: 0.8526 - lr: 3.1250e-05\n",
      "Epoch 19/20\n",
      "225/225 [==============================] - ETA: 0s - loss: 0.0603 - accuracy: 0.9793\n",
      "Epoch 19: ReduceLROnPlateau reducing learning rate to 1.5625000742147677e-05.\n",
      "225/225 [==============================] - 142s 632ms/step - loss: 0.0603 - accuracy: 0.9793 - val_loss: 0.6147 - val_accuracy: 0.8547 - lr: 3.1250e-05\n",
      "Epoch 20/20\n",
      "225/225 [==============================] - 154s 684ms/step - loss: 0.0580 - accuracy: 0.9794 - val_loss: 0.5976 - val_accuracy: 0.8583 - lr: 1.5625e-05\n"
     ]
    },
    {
     "data": {
      "text/plain": [
       "<keras.src.callbacks.History at 0x156d8a91880>"
      ]
     },
     "execution_count": 80,
     "metadata": {},
     "output_type": "execute_result"
    }
   ],
   "source": [
    "learning_rate_reduction = ReduceLROnPlateau(monitor='val_accuracy', patience = 2, verbose=1,factor=0.5, min_lr=0.00001)\n",
    "\n",
    "model2.fit(\n",
    "    train_gen,\n",
    "    steps_per_epoch=train_gen.samples // batch_size,\n",
    "    epochs=20,\n",
    "    validation_data=test_gen,\n",
    "    validation_steps=test_gen.samples // batch_size,\n",
    "    callbacks = [learning_rate_reduction]\n",
    ")"
   ]
  },
  {
   "cell_type": "code",
   "execution_count": 81,
   "id": "567479eb-e694-4240-a6b4-1039456ae8c7",
   "metadata": {},
   "outputs": [],
   "source": [
    "model2.save(\"./output/model_all_alpha_85.h5\")"
   ]
  },
  {
   "cell_type": "markdown",
   "id": "35216949-9f5c-45e7-8333-ab92a3939069",
   "metadata": {},
   "source": [
    "# Second Round for Model 2 (85%)"
   ]
  },
  {
   "cell_type": "code",
   "execution_count": 27,
   "id": "a1783bb4-abfe-4c5b-8975-de79dfe0829b",
   "metadata": {},
   "outputs": [
    {
     "name": "stdout",
     "output_type": "stream",
     "text": [
      "Epoch 1/20\n",
      "17/17 [==============================] - 14s 780ms/step - loss: 8.8690 - accuracy: 0.2693 - val_loss: 0.6058 - val_accuracy: 0.8568 - lr: 0.0010\n",
      "Epoch 2/20\n",
      "17/17 [==============================] - 11s 661ms/step - loss: 8.8694 - accuracy: 0.2488 - val_loss: 0.5999 - val_accuracy: 0.8568 - lr: 0.0010\n",
      "Epoch 3/20\n",
      "17/17 [==============================] - 11s 664ms/step - loss: 8.8936 - accuracy: 0.2697 - val_loss: 0.6042 - val_accuracy: 0.8573 - lr: 0.0010\n",
      "Epoch 4/20\n",
      "17/17 [==============================] - 11s 677ms/step - loss: 9.0334 - accuracy: 0.2633 - val_loss: 0.5950 - val_accuracy: 0.8583 - lr: 0.0010\n",
      "Epoch 5/20\n",
      "17/17 [==============================] - 11s 663ms/step - loss: 8.9902 - accuracy: 0.2564 - val_loss: 0.6097 - val_accuracy: 0.8562 - lr: 0.0010\n",
      "Epoch 6/20\n",
      "17/17 [==============================] - ETA: 0s - loss: 8.8401 - accuracy: 0.2774\n",
      "Epoch 6: ReduceLROnPlateau reducing learning rate to 0.0005000000237487257.\n",
      "17/17 [==============================] - 12s 702ms/step - loss: 8.8401 - accuracy: 0.2774 - val_loss: 0.6091 - val_accuracy: 0.8568 - lr: 0.0010\n",
      "Epoch 7/20\n",
      "17/17 [==============================] - 12s 721ms/step - loss: 8.8446 - accuracy: 0.2493 - val_loss: 0.6095 - val_accuracy: 0.8557 - lr: 5.0000e-04\n",
      "Epoch 8/20\n",
      "17/17 [==============================] - ETA: 0s - loss: 8.9275 - accuracy: 0.2540\n",
      "Epoch 8: ReduceLROnPlateau reducing learning rate to 0.0002500000118743628.\n",
      "17/17 [==============================] - 12s 737ms/step - loss: 8.9275 - accuracy: 0.2540 - val_loss: 0.5968 - val_accuracy: 0.8573 - lr: 5.0000e-04\n",
      "Epoch 9/20\n",
      "17/17 [==============================] - 12s 699ms/step - loss: 8.9666 - accuracy: 0.2626 - val_loss: 0.5951 - val_accuracy: 0.8583 - lr: 2.5000e-04\n",
      "Epoch 10/20\n",
      "17/17 [==============================] - ETA: 0s - loss: 8.7418 - accuracy: 0.2683\n",
      "Epoch 10: ReduceLROnPlateau reducing learning rate to 0.0001250000059371814.\n",
      "17/17 [==============================] - 12s 748ms/step - loss: 8.7418 - accuracy: 0.2683 - val_loss: 0.6071 - val_accuracy: 0.8562 - lr: 2.5000e-04\n",
      "Epoch 11/20\n",
      "17/17 [==============================] - 12s 699ms/step - loss: 8.8989 - accuracy: 0.2797 - val_loss: 0.6047 - val_accuracy: 0.8562 - lr: 1.2500e-04\n",
      "Epoch 12/20\n",
      "17/17 [==============================] - ETA: 0s - loss: 8.7333 - accuracy: 0.2655\n",
      "Epoch 12: ReduceLROnPlateau reducing learning rate to 6.25000029685907e-05.\n",
      "17/17 [==============================] - 11s 683ms/step - loss: 8.7333 - accuracy: 0.2655 - val_loss: 0.6059 - val_accuracy: 0.8552 - lr: 1.2500e-04\n",
      "Epoch 13/20\n",
      "17/17 [==============================] - 12s 690ms/step - loss: 8.7001 - accuracy: 0.2636 - val_loss: 0.6002 - val_accuracy: 0.8583 - lr: 6.2500e-05\n",
      "Epoch 14/20\n",
      "17/17 [==============================] - ETA: 0s - loss: 8.8350 - accuracy: 0.2674\n",
      "Epoch 14: ReduceLROnPlateau reducing learning rate to 3.125000148429535e-05.\n",
      "17/17 [==============================] - 11s 675ms/step - loss: 8.8350 - accuracy: 0.2674 - val_loss: 0.6131 - val_accuracy: 0.8552 - lr: 6.2500e-05\n",
      "Epoch 15/20\n",
      "17/17 [==============================] - 11s 674ms/step - loss: 8.9131 - accuracy: 0.2569 - val_loss: 0.6104 - val_accuracy: 0.8552 - lr: 3.1250e-05\n",
      "Epoch 16/20\n",
      "17/17 [==============================] - ETA: 0s - loss: 8.7798 - accuracy: 0.2583\n",
      "Epoch 16: ReduceLROnPlateau reducing learning rate to 1.5625000742147677e-05.\n",
      "17/17 [==============================] - 11s 674ms/step - loss: 8.7798 - accuracy: 0.2583 - val_loss: 0.6090 - val_accuracy: 0.8562 - lr: 3.1250e-05\n",
      "Epoch 17/20\n",
      "17/17 [==============================] - 12s 699ms/step - loss: 9.0750 - accuracy: 0.2624 - val_loss: 0.6042 - val_accuracy: 0.8552 - lr: 1.5625e-05\n",
      "Epoch 18/20\n",
      "17/17 [==============================] - ETA: 0s - loss: 8.8136 - accuracy: 0.2559\n",
      "Epoch 18: ReduceLROnPlateau reducing learning rate to 1e-05.\n",
      "17/17 [==============================] - 11s 680ms/step - loss: 8.8136 - accuracy: 0.2559 - val_loss: 0.6069 - val_accuracy: 0.8562 - lr: 1.5625e-05\n",
      "Epoch 19/20\n",
      "17/17 [==============================] - 11s 675ms/step - loss: 8.9833 - accuracy: 0.2640 - val_loss: 0.5999 - val_accuracy: 0.8568 - lr: 1.0000e-05\n",
      "Epoch 20/20\n",
      "17/17 [==============================] - 11s 684ms/step - loss: 8.9629 - accuracy: 0.2650 - val_loss: 0.6099 - val_accuracy: 0.8552 - lr: 1.0000e-05\n"
     ]
    },
    {
     "data": {
      "text/plain": [
       "<keras.src.callbacks.History at 0x2abedd0e6d0>"
      ]
     },
     "execution_count": 27,
     "metadata": {},
     "output_type": "execute_result"
    }
   ],
   "source": [
    "model2 = load_model(\"./models/model_all_alpha_85.h5\")\n",
    "\n",
    "# Freeze all layers in the model\n",
    "for layer in model2.layers:\n",
    "    layer.trainable = False\n",
    "\n",
    "# Recompile\n",
    "model2.compile(optimizer = 'adam' , loss = 'categorical_crossentropy' , metrics = ['accuracy'])\n",
    "\n",
    "learning_rate_reduction = ReduceLROnPlateau(monitor='val_accuracy', patience = 2, verbose=1,factor=0.5, min_lr=0.00001)\n",
    "\n",
    "model2.fit(\n",
    "    train_gen,\n",
    "    steps_per_epoch=train_gen.samples // batch_size,\n",
    "    epochs=20,\n",
    "    validation_data=test_gen,\n",
    "    validation_steps=test_gen.samples // batch_size,\n",
    "    callbacks = [learning_rate_reduction]\n",
    ")"
   ]
  },
  {
   "cell_type": "code",
   "execution_count": 28,
   "id": "a576d30a-b58a-4599-9272-54ec53f98669",
   "metadata": {},
   "outputs": [],
   "source": [
    "model2.save(\"./models/test.h5\")"
   ]
  },
  {
   "cell_type": "code",
   "execution_count": null,
   "id": "5034795f-1282-4e9d-82e7-024b38bf19ba",
   "metadata": {},
   "outputs": [],
   "source": [
    "model2 = Sequential()\n",
    "model2.add(Conv2D(128, kernel_size=(5,5),\n",
    "                 strides=1, padding='same', activation='relu', input_shape=(48,48,1)))\n",
    "model2.add(MaxPool2D(pool_size=(4,4), strides=2, padding='same'))\n",
    "model2.add(Conv2D(64, kernel_size=(2,2),\n",
    "                 strides=1, activation='relu', padding='same'))\n",
    "model2.add(MaxPool2D((4,4), 2, padding='same'))\n",
    "model2.add(Conv2D(32, kernel_size=(2,2),\n",
    "                 strides=1, activation='relu', padding='same'))\n",
    "model2.add(MaxPool2D((4,4), 2, padding='same'))\n",
    "          \n",
    "model2.add(Flatten())\n",
    "model2.add(Dense(units=512,activation='relu'))\n",
    "model2.add(Dropout(rate=0.25))\n",
    "model2.add(Dense(units=24,activation='softmax'))\n",
    "model2.summary()\n",
    "\n",
    "model2.compile(optimizer = 'adam' , loss = 'categorical_crossentropy' , metrics = ['accuracy'])\n",
    "\n",
    "model = Sequential()\n",
    "# convolutional layers\n",
    "model.add(Conv2D(128, kernel_size=(3,3), strides=1, padding='same', activation='relu', input_shape=(48,48,1)))\n",
    "model.add(MaxPooling2D(pool_size=(2,2)))\n",
    "model.add(Dropout(0.4))\n",
    "\n",
    "model.add(Conv2D(64, kernel_size=(3,3), activation='relu'))\n",
    "model.add(MaxPooling2D(pool_size=(2,2), padding='same'))\n",
    "model.add(Dropout(0.4))\n",
    "\n",
    "model.add(Conv2D(512, kernel_size=(3,3), activation='relu'))\n",
    "model.add(MaxPooling2D(pool_size=(2,2), padding='same'))\n",
    "model.add(Dropout(0.4))\n",
    "\n",
    "model.add(Conv2D(512, kernel_size=(3,3), activation='relu'))\n",
    "model.add(MaxPooling2D(pool_size=(2,2), padding='same'))\n",
    "model.add(Dropout(0.4))\n",
    "\n",
    "model.add(Flatten())\n",
    "\n",
    "# fully connected layers\n",
    "model.add(Dense(512, activation='relu'))\n",
    "model.add(Dropout(0.4))\n",
    "\n",
    "model.add(Dense(64, activation='relu'))\n",
    "model.add(Dropout(0.2))\n",
    "\n",
    "model.add(Dense(256, activation='relu'))\n",
    "model.add(Dropout(0.3))\n",
    "\n",
    "model.add(Dense(64, activation='relu'))\n",
    "model.add(Dropout(0.2))\n",
    "\n",
    "model.add(Dense(256, activation='relu'))\n",
    "model.add(Dropout(0.3))\n",
    "\n",
    "# output layer\n",
    "model.add(Dense(24, activation='softmax'))"
   ]
  },
  {
   "cell_type": "code",
   "execution_count": 60,
   "id": "a9a929de-7ea3-4648-9099-7738feca4ae9",
   "metadata": {},
   "outputs": [],
   "source": [
    "model = Sequential()\n",
    "# convolutional layers\n",
    "model.add(Conv2D(128, kernel_size=(3,3), strides=1, padding='same', activation='relu', input_shape=(48,48,1)))\n",
    "model.add(MaxPooling2D(pool_size=(2,2)))\n",
    "model.add(Dropout(0.4))\n",
    "\n",
    "model.add(Conv2D(256, kernel_size=(3,3), activation='relu'))\n",
    "model.add(MaxPooling2D(pool_size=(2,2), padding='same'))\n",
    "model.add(Dropout(0.4))\n",
    "\n",
    "model.add(Conv2D(512, kernel_size=(3,3), activation='relu'))\n",
    "model.add(MaxPooling2D(pool_size=(2,2), padding='same'))\n",
    "model.add(Dropout(0.4))\n",
    "\n",
    "model.add(Conv2D(512, kernel_size=(3,3), activation='relu'))\n",
    "model.add(MaxPooling2D(pool_size=(2,2), padding='same'))\n",
    "model.add(Dropout(0.4))\n",
    "\n",
    "model.add(Flatten())\n",
    "\n",
    "# fully connected layers\n",
    "model.add(Dense(512, activation='relu'))\n",
    "model.add(Dropout(0.4))\n",
    "\n",
    "model.add(Dense(64, activation='relu'))\n",
    "model.add(Dropout(0.2))\n",
    "\n",
    "model.add(Dense(256, activation='relu'))\n",
    "model.add(Dropout(0.3))\n",
    "\n",
    "model.add(Dense(64, activation='relu'))\n",
    "model.add(Dropout(0.2))\n",
    "\n",
    "model.add(Dense(256, activation='relu'))\n",
    "model.add(Dropout(0.3))\n",
    "\n",
    "# output layer\n",
    "model.add(Dense(24, activation='softmax'))"
   ]
  },
  {
   "cell_type": "code",
   "execution_count": 61,
   "id": "83175a5b-85c7-4fc6-8c6e-87d11b09e749",
   "metadata": {},
   "outputs": [
    {
     "name": "stdout",
     "output_type": "stream",
     "text": [
      "Model: \"sequential_13\"\n",
      "_________________________________________________________________\n",
      " Layer (type)                Output Shape              Param #   \n",
      "=================================================================\n",
      " conv2d_43 (Conv2D)          (None, 48, 48, 128)       1280      \n",
      "                                                                 \n",
      " max_pooling2d_42 (MaxPooli  (None, 24, 24, 128)       0         \n",
      " ng2D)                                                           \n",
      "                                                                 \n",
      " dropout_60 (Dropout)        (None, 24, 24, 128)       0         \n",
      "                                                                 \n",
      " conv2d_44 (Conv2D)          (None, 22, 22, 256)       295168    \n",
      "                                                                 \n",
      " max_pooling2d_43 (MaxPooli  (None, 11, 11, 256)       0         \n",
      " ng2D)                                                           \n",
      "                                                                 \n",
      " dropout_61 (Dropout)        (None, 11, 11, 256)       0         \n",
      "                                                                 \n",
      " conv2d_45 (Conv2D)          (None, 9, 9, 512)         1180160   \n",
      "                                                                 \n",
      " max_pooling2d_44 (MaxPooli  (None, 5, 5, 512)         0         \n",
      " ng2D)                                                           \n",
      "                                                                 \n",
      " dropout_62 (Dropout)        (None, 5, 5, 512)         0         \n",
      "                                                                 \n",
      " conv2d_46 (Conv2D)          (None, 3, 3, 512)         2359808   \n",
      "                                                                 \n",
      " max_pooling2d_45 (MaxPooli  (None, 2, 2, 512)         0         \n",
      " ng2D)                                                           \n",
      "                                                                 \n",
      " dropout_63 (Dropout)        (None, 2, 2, 512)         0         \n",
      "                                                                 \n",
      " flatten_12 (Flatten)        (None, 2048)              0         \n",
      "                                                                 \n",
      " dense_48 (Dense)            (None, 512)               1049088   \n",
      "                                                                 \n",
      " dropout_64 (Dropout)        (None, 512)               0         \n",
      "                                                                 \n",
      " dense_49 (Dense)            (None, 64)                32832     \n",
      "                                                                 \n",
      " dropout_65 (Dropout)        (None, 64)                0         \n",
      "                                                                 \n",
      " dense_50 (Dense)            (None, 256)               16640     \n",
      "                                                                 \n",
      " dropout_66 (Dropout)        (None, 256)               0         \n",
      "                                                                 \n",
      " dense_51 (Dense)            (None, 64)                16448     \n",
      "                                                                 \n",
      " dropout_67 (Dropout)        (None, 64)                0         \n",
      "                                                                 \n",
      " dense_52 (Dense)            (None, 256)               16640     \n",
      "                                                                 \n",
      " dropout_68 (Dropout)        (None, 256)               0         \n",
      "                                                                 \n",
      " dense_53 (Dense)            (None, 24)                6168      \n",
      "                                                                 \n",
      "=================================================================\n",
      "Total params: 4974232 (18.98 MB)\n",
      "Trainable params: 4974232 (18.98 MB)\n",
      "Non-trainable params: 0 (0.00 Byte)\n",
      "_________________________________________________________________\n"
     ]
    }
   ],
   "source": [
    "model.summary()"
   ]
  },
  {
   "cell_type": "code",
   "execution_count": 62,
   "id": "8c7c7036-648e-445f-a3c5-7318164fc74b",
   "metadata": {},
   "outputs": [],
   "source": [
    "model.compile(optimizer = 'adam', loss = 'categorical_crossentropy', metrics = 'accuracy' )"
   ]
  },
  {
   "cell_type": "code",
   "execution_count": 63,
   "id": "03cf3002-e640-4249-8247-0467b9cb1153",
   "metadata": {},
   "outputs": [
    {
     "name": "stdout",
     "output_type": "stream",
     "text": [
      "Epoch 1/20\n",
      "50/50 [==============================] - 119s 2s/step - loss: 2.9664 - accuracy: 0.0874 - val_loss: 9.0711 - val_accuracy: 0.1042\n",
      "Epoch 2/20\n",
      " 3/50 [>.............................] - ETA: 1:36 - loss: 2.7814 - accuracy: 0.0938"
     ]
    },
    {
     "ename": "KeyboardInterrupt",
     "evalue": "",
     "output_type": "error",
     "traceback": [
      "\u001b[1;31m---------------------------------------------------------------------------\u001b[0m",
      "\u001b[1;31mKeyboardInterrupt\u001b[0m                         Traceback (most recent call last)",
      "Cell \u001b[1;32mIn[63], line 1\u001b[0m\n\u001b[1;32m----> 1\u001b[0m \u001b[43mmodel\u001b[49m\u001b[38;5;241;43m.\u001b[39;49m\u001b[43mfit\u001b[49m\u001b[43m(\u001b[49m\n\u001b[0;32m      2\u001b[0m \u001b[43m    \u001b[49m\u001b[43mtrain_gen\u001b[49m\u001b[43m,\u001b[49m\n\u001b[0;32m      3\u001b[0m \u001b[43m    \u001b[49m\u001b[43msteps_per_epoch\u001b[49m\u001b[38;5;241;43m=\u001b[39;49m\u001b[43mtrain_gen\u001b[49m\u001b[38;5;241;43m.\u001b[39;49m\u001b[43msamples\u001b[49m\u001b[43m \u001b[49m\u001b[38;5;241;43m/\u001b[39;49m\u001b[38;5;241;43m/\u001b[39;49m\u001b[43m \u001b[49m\u001b[43mbatch_size\u001b[49m\u001b[43m,\u001b[49m\n\u001b[0;32m      4\u001b[0m \u001b[43m    \u001b[49m\u001b[43mepochs\u001b[49m\u001b[38;5;241;43m=\u001b[39;49m\u001b[38;5;241;43m20\u001b[39;49m\u001b[43m,\u001b[49m\n\u001b[0;32m      5\u001b[0m \u001b[43m    \u001b[49m\u001b[43mvalidation_data\u001b[49m\u001b[38;5;241;43m=\u001b[39;49m\u001b[43mval_gen\u001b[49m\u001b[43m,\u001b[49m\n\u001b[0;32m      6\u001b[0m \u001b[43m    \u001b[49m\u001b[43mvalidation_steps\u001b[49m\u001b[38;5;241;43m=\u001b[39;49m\u001b[43mval_gen\u001b[49m\u001b[38;5;241;43m.\u001b[39;49m\u001b[43msamples\u001b[49m\u001b[43m \u001b[49m\u001b[38;5;241;43m/\u001b[39;49m\u001b[38;5;241;43m/\u001b[39;49m\u001b[43m \u001b[49m\u001b[43mbatch_size\u001b[49m\n\u001b[0;32m      7\u001b[0m \u001b[43m)\u001b[49m\n",
      "File \u001b[1;32mD:\\Anaconda3\\envs\\sc4031\\lib\\site-packages\\keras\\src\\utils\\traceback_utils.py:65\u001b[0m, in \u001b[0;36mfilter_traceback.<locals>.error_handler\u001b[1;34m(*args, **kwargs)\u001b[0m\n\u001b[0;32m     63\u001b[0m filtered_tb \u001b[38;5;241m=\u001b[39m \u001b[38;5;28;01mNone\u001b[39;00m\n\u001b[0;32m     64\u001b[0m \u001b[38;5;28;01mtry\u001b[39;00m:\n\u001b[1;32m---> 65\u001b[0m     \u001b[38;5;28;01mreturn\u001b[39;00m \u001b[43mfn\u001b[49m\u001b[43m(\u001b[49m\u001b[38;5;241;43m*\u001b[39;49m\u001b[43margs\u001b[49m\u001b[43m,\u001b[49m\u001b[43m \u001b[49m\u001b[38;5;241;43m*\u001b[39;49m\u001b[38;5;241;43m*\u001b[39;49m\u001b[43mkwargs\u001b[49m\u001b[43m)\u001b[49m\n\u001b[0;32m     66\u001b[0m \u001b[38;5;28;01mexcept\u001b[39;00m \u001b[38;5;167;01mException\u001b[39;00m \u001b[38;5;28;01mas\u001b[39;00m e:\n\u001b[0;32m     67\u001b[0m     filtered_tb \u001b[38;5;241m=\u001b[39m _process_traceback_frames(e\u001b[38;5;241m.\u001b[39m__traceback__)\n",
      "File \u001b[1;32mD:\\Anaconda3\\envs\\sc4031\\lib\\site-packages\\keras\\src\\engine\\training.py:1742\u001b[0m, in \u001b[0;36mModel.fit\u001b[1;34m(self, x, y, batch_size, epochs, verbose, callbacks, validation_split, validation_data, shuffle, class_weight, sample_weight, initial_epoch, steps_per_epoch, validation_steps, validation_batch_size, validation_freq, max_queue_size, workers, use_multiprocessing)\u001b[0m\n\u001b[0;32m   1734\u001b[0m \u001b[38;5;28;01mwith\u001b[39;00m tf\u001b[38;5;241m.\u001b[39mprofiler\u001b[38;5;241m.\u001b[39mexperimental\u001b[38;5;241m.\u001b[39mTrace(\n\u001b[0;32m   1735\u001b[0m     \u001b[38;5;124m\"\u001b[39m\u001b[38;5;124mtrain\u001b[39m\u001b[38;5;124m\"\u001b[39m,\n\u001b[0;32m   1736\u001b[0m     epoch_num\u001b[38;5;241m=\u001b[39mepoch,\n\u001b[1;32m   (...)\u001b[0m\n\u001b[0;32m   1739\u001b[0m     _r\u001b[38;5;241m=\u001b[39m\u001b[38;5;241m1\u001b[39m,\n\u001b[0;32m   1740\u001b[0m ):\n\u001b[0;32m   1741\u001b[0m     callbacks\u001b[38;5;241m.\u001b[39mon_train_batch_begin(step)\n\u001b[1;32m-> 1742\u001b[0m     tmp_logs \u001b[38;5;241m=\u001b[39m \u001b[38;5;28;43mself\u001b[39;49m\u001b[38;5;241;43m.\u001b[39;49m\u001b[43mtrain_function\u001b[49m\u001b[43m(\u001b[49m\u001b[43miterator\u001b[49m\u001b[43m)\u001b[49m\n\u001b[0;32m   1743\u001b[0m     \u001b[38;5;28;01mif\u001b[39;00m data_handler\u001b[38;5;241m.\u001b[39mshould_sync:\n\u001b[0;32m   1744\u001b[0m         context\u001b[38;5;241m.\u001b[39masync_wait()\n",
      "File \u001b[1;32mD:\\Anaconda3\\envs\\sc4031\\lib\\site-packages\\tensorflow\\python\\util\\traceback_utils.py:150\u001b[0m, in \u001b[0;36mfilter_traceback.<locals>.error_handler\u001b[1;34m(*args, **kwargs)\u001b[0m\n\u001b[0;32m    148\u001b[0m filtered_tb \u001b[38;5;241m=\u001b[39m \u001b[38;5;28;01mNone\u001b[39;00m\n\u001b[0;32m    149\u001b[0m \u001b[38;5;28;01mtry\u001b[39;00m:\n\u001b[1;32m--> 150\u001b[0m   \u001b[38;5;28;01mreturn\u001b[39;00m \u001b[43mfn\u001b[49m\u001b[43m(\u001b[49m\u001b[38;5;241;43m*\u001b[39;49m\u001b[43margs\u001b[49m\u001b[43m,\u001b[49m\u001b[43m \u001b[49m\u001b[38;5;241;43m*\u001b[39;49m\u001b[38;5;241;43m*\u001b[39;49m\u001b[43mkwargs\u001b[49m\u001b[43m)\u001b[49m\n\u001b[0;32m    151\u001b[0m \u001b[38;5;28;01mexcept\u001b[39;00m \u001b[38;5;167;01mException\u001b[39;00m \u001b[38;5;28;01mas\u001b[39;00m e:\n\u001b[0;32m    152\u001b[0m   filtered_tb \u001b[38;5;241m=\u001b[39m _process_traceback_frames(e\u001b[38;5;241m.\u001b[39m__traceback__)\n",
      "File \u001b[1;32mD:\\Anaconda3\\envs\\sc4031\\lib\\site-packages\\tensorflow\\python\\eager\\polymorphic_function\\polymorphic_function.py:825\u001b[0m, in \u001b[0;36mFunction.__call__\u001b[1;34m(self, *args, **kwds)\u001b[0m\n\u001b[0;32m    822\u001b[0m compiler \u001b[38;5;241m=\u001b[39m \u001b[38;5;124m\"\u001b[39m\u001b[38;5;124mxla\u001b[39m\u001b[38;5;124m\"\u001b[39m \u001b[38;5;28;01mif\u001b[39;00m \u001b[38;5;28mself\u001b[39m\u001b[38;5;241m.\u001b[39m_jit_compile \u001b[38;5;28;01melse\u001b[39;00m \u001b[38;5;124m\"\u001b[39m\u001b[38;5;124mnonXla\u001b[39m\u001b[38;5;124m\"\u001b[39m\n\u001b[0;32m    824\u001b[0m \u001b[38;5;28;01mwith\u001b[39;00m OptionalXlaContext(\u001b[38;5;28mself\u001b[39m\u001b[38;5;241m.\u001b[39m_jit_compile):\n\u001b[1;32m--> 825\u001b[0m   result \u001b[38;5;241m=\u001b[39m \u001b[38;5;28;43mself\u001b[39;49m\u001b[38;5;241;43m.\u001b[39;49m\u001b[43m_call\u001b[49m\u001b[43m(\u001b[49m\u001b[38;5;241;43m*\u001b[39;49m\u001b[43margs\u001b[49m\u001b[43m,\u001b[49m\u001b[43m \u001b[49m\u001b[38;5;241;43m*\u001b[39;49m\u001b[38;5;241;43m*\u001b[39;49m\u001b[43mkwds\u001b[49m\u001b[43m)\u001b[49m\n\u001b[0;32m    827\u001b[0m new_tracing_count \u001b[38;5;241m=\u001b[39m \u001b[38;5;28mself\u001b[39m\u001b[38;5;241m.\u001b[39mexperimental_get_tracing_count()\n\u001b[0;32m    828\u001b[0m without_tracing \u001b[38;5;241m=\u001b[39m (tracing_count \u001b[38;5;241m==\u001b[39m new_tracing_count)\n",
      "File \u001b[1;32mD:\\Anaconda3\\envs\\sc4031\\lib\\site-packages\\tensorflow\\python\\eager\\polymorphic_function\\polymorphic_function.py:857\u001b[0m, in \u001b[0;36mFunction._call\u001b[1;34m(self, *args, **kwds)\u001b[0m\n\u001b[0;32m    854\u001b[0m   \u001b[38;5;28mself\u001b[39m\u001b[38;5;241m.\u001b[39m_lock\u001b[38;5;241m.\u001b[39mrelease()\n\u001b[0;32m    855\u001b[0m   \u001b[38;5;66;03m# In this case we have created variables on the first call, so we run the\u001b[39;00m\n\u001b[0;32m    856\u001b[0m   \u001b[38;5;66;03m# defunned version which is guaranteed to never create variables.\u001b[39;00m\n\u001b[1;32m--> 857\u001b[0m   \u001b[38;5;28;01mreturn\u001b[39;00m \u001b[38;5;28;43mself\u001b[39;49m\u001b[38;5;241;43m.\u001b[39;49m\u001b[43m_no_variable_creation_fn\u001b[49m\u001b[43m(\u001b[49m\u001b[38;5;241;43m*\u001b[39;49m\u001b[43margs\u001b[49m\u001b[43m,\u001b[49m\u001b[43m \u001b[49m\u001b[38;5;241;43m*\u001b[39;49m\u001b[38;5;241;43m*\u001b[39;49m\u001b[43mkwds\u001b[49m\u001b[43m)\u001b[49m  \u001b[38;5;66;03m# pylint: disable=not-callable\u001b[39;00m\n\u001b[0;32m    858\u001b[0m \u001b[38;5;28;01melif\u001b[39;00m \u001b[38;5;28mself\u001b[39m\u001b[38;5;241m.\u001b[39m_variable_creation_fn \u001b[38;5;129;01mis\u001b[39;00m \u001b[38;5;129;01mnot\u001b[39;00m \u001b[38;5;28;01mNone\u001b[39;00m:\n\u001b[0;32m    859\u001b[0m   \u001b[38;5;66;03m# Release the lock early so that multiple threads can perform the call\u001b[39;00m\n\u001b[0;32m    860\u001b[0m   \u001b[38;5;66;03m# in parallel.\u001b[39;00m\n\u001b[0;32m    861\u001b[0m   \u001b[38;5;28mself\u001b[39m\u001b[38;5;241m.\u001b[39m_lock\u001b[38;5;241m.\u001b[39mrelease()\n",
      "File \u001b[1;32mD:\\Anaconda3\\envs\\sc4031\\lib\\site-packages\\tensorflow\\python\\eager\\polymorphic_function\\tracing_compiler.py:148\u001b[0m, in \u001b[0;36mTracingCompiler.__call__\u001b[1;34m(self, *args, **kwargs)\u001b[0m\n\u001b[0;32m    145\u001b[0m \u001b[38;5;28;01mwith\u001b[39;00m \u001b[38;5;28mself\u001b[39m\u001b[38;5;241m.\u001b[39m_lock:\n\u001b[0;32m    146\u001b[0m   (concrete_function,\n\u001b[0;32m    147\u001b[0m    filtered_flat_args) \u001b[38;5;241m=\u001b[39m \u001b[38;5;28mself\u001b[39m\u001b[38;5;241m.\u001b[39m_maybe_define_function(args, kwargs)\n\u001b[1;32m--> 148\u001b[0m \u001b[38;5;28;01mreturn\u001b[39;00m \u001b[43mconcrete_function\u001b[49m\u001b[38;5;241;43m.\u001b[39;49m\u001b[43m_call_flat\u001b[49m\u001b[43m(\u001b[49m\n\u001b[0;32m    149\u001b[0m \u001b[43m    \u001b[49m\u001b[43mfiltered_flat_args\u001b[49m\u001b[43m,\u001b[49m\u001b[43m \u001b[49m\u001b[43mcaptured_inputs\u001b[49m\u001b[38;5;241;43m=\u001b[39;49m\u001b[43mconcrete_function\u001b[49m\u001b[38;5;241;43m.\u001b[39;49m\u001b[43mcaptured_inputs\u001b[49m\u001b[43m)\u001b[49m\n",
      "File \u001b[1;32mD:\\Anaconda3\\envs\\sc4031\\lib\\site-packages\\tensorflow\\python\\eager\\polymorphic_function\\monomorphic_function.py:1349\u001b[0m, in \u001b[0;36mConcreteFunction._call_flat\u001b[1;34m(self, args, captured_inputs)\u001b[0m\n\u001b[0;32m   1345\u001b[0m possible_gradient_type \u001b[38;5;241m=\u001b[39m gradients_util\u001b[38;5;241m.\u001b[39mPossibleTapeGradientTypes(args)\n\u001b[0;32m   1346\u001b[0m \u001b[38;5;28;01mif\u001b[39;00m (possible_gradient_type \u001b[38;5;241m==\u001b[39m gradients_util\u001b[38;5;241m.\u001b[39mPOSSIBLE_GRADIENT_TYPES_NONE\n\u001b[0;32m   1347\u001b[0m     \u001b[38;5;129;01mand\u001b[39;00m executing_eagerly):\n\u001b[0;32m   1348\u001b[0m   \u001b[38;5;66;03m# No tape is watching; skip to running the function.\u001b[39;00m\n\u001b[1;32m-> 1349\u001b[0m   \u001b[38;5;28;01mreturn\u001b[39;00m \u001b[38;5;28mself\u001b[39m\u001b[38;5;241m.\u001b[39m_build_call_outputs(\u001b[38;5;28;43mself\u001b[39;49m\u001b[38;5;241;43m.\u001b[39;49m\u001b[43m_inference_function\u001b[49m\u001b[43m(\u001b[49m\u001b[38;5;241;43m*\u001b[39;49m\u001b[43margs\u001b[49m\u001b[43m)\u001b[49m)\n\u001b[0;32m   1350\u001b[0m forward_backward \u001b[38;5;241m=\u001b[39m \u001b[38;5;28mself\u001b[39m\u001b[38;5;241m.\u001b[39m_select_forward_and_backward_functions(\n\u001b[0;32m   1351\u001b[0m     args,\n\u001b[0;32m   1352\u001b[0m     possible_gradient_type,\n\u001b[0;32m   1353\u001b[0m     executing_eagerly)\n\u001b[0;32m   1354\u001b[0m forward_function, args_with_tangents \u001b[38;5;241m=\u001b[39m forward_backward\u001b[38;5;241m.\u001b[39mforward()\n",
      "File \u001b[1;32mD:\\Anaconda3\\envs\\sc4031\\lib\\site-packages\\tensorflow\\python\\eager\\polymorphic_function\\atomic_function.py:196\u001b[0m, in \u001b[0;36mAtomicFunction.__call__\u001b[1;34m(self, *args)\u001b[0m\n\u001b[0;32m    194\u001b[0m \u001b[38;5;28;01mwith\u001b[39;00m record\u001b[38;5;241m.\u001b[39mstop_recording():\n\u001b[0;32m    195\u001b[0m   \u001b[38;5;28;01mif\u001b[39;00m \u001b[38;5;28mself\u001b[39m\u001b[38;5;241m.\u001b[39m_bound_context\u001b[38;5;241m.\u001b[39mexecuting_eagerly():\n\u001b[1;32m--> 196\u001b[0m     outputs \u001b[38;5;241m=\u001b[39m \u001b[38;5;28;43mself\u001b[39;49m\u001b[38;5;241;43m.\u001b[39;49m\u001b[43m_bound_context\u001b[49m\u001b[38;5;241;43m.\u001b[39;49m\u001b[43mcall_function\u001b[49m\u001b[43m(\u001b[49m\n\u001b[0;32m    197\u001b[0m \u001b[43m        \u001b[49m\u001b[38;5;28;43mself\u001b[39;49m\u001b[38;5;241;43m.\u001b[39;49m\u001b[43mname\u001b[49m\u001b[43m,\u001b[49m\n\u001b[0;32m    198\u001b[0m \u001b[43m        \u001b[49m\u001b[38;5;28;43mlist\u001b[39;49m\u001b[43m(\u001b[49m\u001b[43margs\u001b[49m\u001b[43m)\u001b[49m\u001b[43m,\u001b[49m\n\u001b[0;32m    199\u001b[0m \u001b[43m        \u001b[49m\u001b[38;5;28;43mlen\u001b[39;49m\u001b[43m(\u001b[49m\u001b[38;5;28;43mself\u001b[39;49m\u001b[38;5;241;43m.\u001b[39;49m\u001b[43mfunction_type\u001b[49m\u001b[38;5;241;43m.\u001b[39;49m\u001b[43mflat_outputs\u001b[49m\u001b[43m)\u001b[49m\u001b[43m,\u001b[49m\n\u001b[0;32m    200\u001b[0m \u001b[43m    \u001b[49m\u001b[43m)\u001b[49m\n\u001b[0;32m    201\u001b[0m   \u001b[38;5;28;01melse\u001b[39;00m:\n\u001b[0;32m    202\u001b[0m     outputs \u001b[38;5;241m=\u001b[39m make_call_op_in_graph(\u001b[38;5;28mself\u001b[39m, \u001b[38;5;28mlist\u001b[39m(args))\n",
      "File \u001b[1;32mD:\\Anaconda3\\envs\\sc4031\\lib\\site-packages\\tensorflow\\python\\eager\\context.py:1457\u001b[0m, in \u001b[0;36mContext.call_function\u001b[1;34m(self, name, tensor_inputs, num_outputs)\u001b[0m\n\u001b[0;32m   1455\u001b[0m cancellation_context \u001b[38;5;241m=\u001b[39m cancellation\u001b[38;5;241m.\u001b[39mcontext()\n\u001b[0;32m   1456\u001b[0m \u001b[38;5;28;01mif\u001b[39;00m cancellation_context \u001b[38;5;129;01mis\u001b[39;00m \u001b[38;5;28;01mNone\u001b[39;00m:\n\u001b[1;32m-> 1457\u001b[0m   outputs \u001b[38;5;241m=\u001b[39m \u001b[43mexecute\u001b[49m\u001b[38;5;241;43m.\u001b[39;49m\u001b[43mexecute\u001b[49m\u001b[43m(\u001b[49m\n\u001b[0;32m   1458\u001b[0m \u001b[43m      \u001b[49m\u001b[43mname\u001b[49m\u001b[38;5;241;43m.\u001b[39;49m\u001b[43mdecode\u001b[49m\u001b[43m(\u001b[49m\u001b[38;5;124;43m\"\u001b[39;49m\u001b[38;5;124;43mutf-8\u001b[39;49m\u001b[38;5;124;43m\"\u001b[39;49m\u001b[43m)\u001b[49m\u001b[43m,\u001b[49m\n\u001b[0;32m   1459\u001b[0m \u001b[43m      \u001b[49m\u001b[43mnum_outputs\u001b[49m\u001b[38;5;241;43m=\u001b[39;49m\u001b[43mnum_outputs\u001b[49m\u001b[43m,\u001b[49m\n\u001b[0;32m   1460\u001b[0m \u001b[43m      \u001b[49m\u001b[43minputs\u001b[49m\u001b[38;5;241;43m=\u001b[39;49m\u001b[43mtensor_inputs\u001b[49m\u001b[43m,\u001b[49m\n\u001b[0;32m   1461\u001b[0m \u001b[43m      \u001b[49m\u001b[43mattrs\u001b[49m\u001b[38;5;241;43m=\u001b[39;49m\u001b[43mattrs\u001b[49m\u001b[43m,\u001b[49m\n\u001b[0;32m   1462\u001b[0m \u001b[43m      \u001b[49m\u001b[43mctx\u001b[49m\u001b[38;5;241;43m=\u001b[39;49m\u001b[38;5;28;43mself\u001b[39;49m\u001b[43m,\u001b[49m\n\u001b[0;32m   1463\u001b[0m \u001b[43m  \u001b[49m\u001b[43m)\u001b[49m\n\u001b[0;32m   1464\u001b[0m \u001b[38;5;28;01melse\u001b[39;00m:\n\u001b[0;32m   1465\u001b[0m   outputs \u001b[38;5;241m=\u001b[39m execute\u001b[38;5;241m.\u001b[39mexecute_with_cancellation(\n\u001b[0;32m   1466\u001b[0m       name\u001b[38;5;241m.\u001b[39mdecode(\u001b[38;5;124m\"\u001b[39m\u001b[38;5;124mutf-8\u001b[39m\u001b[38;5;124m\"\u001b[39m),\n\u001b[0;32m   1467\u001b[0m       num_outputs\u001b[38;5;241m=\u001b[39mnum_outputs,\n\u001b[1;32m   (...)\u001b[0m\n\u001b[0;32m   1471\u001b[0m       cancellation_manager\u001b[38;5;241m=\u001b[39mcancellation_context,\n\u001b[0;32m   1472\u001b[0m   )\n",
      "File \u001b[1;32mD:\\Anaconda3\\envs\\sc4031\\lib\\site-packages\\tensorflow\\python\\eager\\execute.py:53\u001b[0m, in \u001b[0;36mquick_execute\u001b[1;34m(op_name, num_outputs, inputs, attrs, ctx, name)\u001b[0m\n\u001b[0;32m     51\u001b[0m \u001b[38;5;28;01mtry\u001b[39;00m:\n\u001b[0;32m     52\u001b[0m   ctx\u001b[38;5;241m.\u001b[39mensure_initialized()\n\u001b[1;32m---> 53\u001b[0m   tensors \u001b[38;5;241m=\u001b[39m \u001b[43mpywrap_tfe\u001b[49m\u001b[38;5;241;43m.\u001b[39;49m\u001b[43mTFE_Py_Execute\u001b[49m\u001b[43m(\u001b[49m\u001b[43mctx\u001b[49m\u001b[38;5;241;43m.\u001b[39;49m\u001b[43m_handle\u001b[49m\u001b[43m,\u001b[49m\u001b[43m \u001b[49m\u001b[43mdevice_name\u001b[49m\u001b[43m,\u001b[49m\u001b[43m \u001b[49m\u001b[43mop_name\u001b[49m\u001b[43m,\u001b[49m\n\u001b[0;32m     54\u001b[0m \u001b[43m                                      \u001b[49m\u001b[43minputs\u001b[49m\u001b[43m,\u001b[49m\u001b[43m \u001b[49m\u001b[43mattrs\u001b[49m\u001b[43m,\u001b[49m\u001b[43m \u001b[49m\u001b[43mnum_outputs\u001b[49m\u001b[43m)\u001b[49m\n\u001b[0;32m     55\u001b[0m \u001b[38;5;28;01mexcept\u001b[39;00m core\u001b[38;5;241m.\u001b[39m_NotOkStatusException \u001b[38;5;28;01mas\u001b[39;00m e:\n\u001b[0;32m     56\u001b[0m   \u001b[38;5;28;01mif\u001b[39;00m name \u001b[38;5;129;01mis\u001b[39;00m \u001b[38;5;129;01mnot\u001b[39;00m \u001b[38;5;28;01mNone\u001b[39;00m:\n",
      "\u001b[1;31mKeyboardInterrupt\u001b[0m: "
     ]
    }
   ],
   "source": [
    "model.fit(\n",
    "    train_gen,\n",
    "    steps_per_epoch=train_gen.samples // batch_size,\n",
    "    epochs=20,\n",
    "    validation_data=val_gen,\n",
    "    validation_steps=val_gen.samples // batch_size\n",
    ")"
   ]
  },
  {
   "cell_type": "code",
   "execution_count": 36,
   "id": "36c0fcec-b46a-43ca-a534-41efb49a6f2c",
   "metadata": {},
   "outputs": [],
   "source": [
    "model.save(\"./output/model.h5\")"
   ]
  },
  {
   "cell_type": "code",
   "execution_count": 24,
   "id": "8e1b46d8-fc22-449f-bbea-e39e46d7801a",
   "metadata": {},
   "outputs": [
    {
     "name": "stdout",
     "output_type": "stream",
     "text": [
      "Epoch 1/20\n",
      "18/18 [==============================] - 12s 574ms/step - loss: 1.1925 - accuracy: 0.5618 - val_loss: 0.5878 - val_accuracy: 0.9355\n",
      "Epoch 2/20\n",
      "18/18 [==============================] - 10s 540ms/step - loss: 0.2335 - accuracy: 0.9366 - val_loss: 0.0506 - val_accuracy: 0.9863\n",
      "Epoch 3/20\n",
      "18/18 [==============================] - 10s 526ms/step - loss: 0.0269 - accuracy: 0.9938 - val_loss: 0.0433 - val_accuracy: 0.9863\n",
      "Epoch 4/20\n",
      "18/18 [==============================] - 10s 526ms/step - loss: 0.0123 - accuracy: 0.9965 - val_loss: 0.0506 - val_accuracy: 0.9863\n",
      "Epoch 5/20\n",
      "18/18 [==============================] - 10s 527ms/step - loss: 0.0057 - accuracy: 0.9987 - val_loss: 0.0533 - val_accuracy: 0.9883\n",
      "Epoch 6/20\n",
      "18/18 [==============================] - 10s 544ms/step - loss: 0.0042 - accuracy: 0.9987 - val_loss: 0.0643 - val_accuracy: 0.9863\n",
      "Epoch 7/20\n",
      "18/18 [==============================] - 10s 521ms/step - loss: 0.0029 - accuracy: 0.9996 - val_loss: 0.0332 - val_accuracy: 0.9902\n",
      "Epoch 8/20\n",
      "18/18 [==============================] - 10s 530ms/step - loss: 0.0067 - accuracy: 0.9978 - val_loss: 0.0796 - val_accuracy: 0.9785\n",
      "Epoch 9/20\n",
      "18/18 [==============================] - 10s 523ms/step - loss: 8.9872e-04 - accuracy: 1.0000 - val_loss: 0.0365 - val_accuracy: 0.9902\n",
      "Epoch 10/20\n",
      "18/18 [==============================] - 10s 537ms/step - loss: 0.0011 - accuracy: 0.9996 - val_loss: 0.0498 - val_accuracy: 0.9883\n",
      "Epoch 11/20\n",
      "18/18 [==============================] - 10s 530ms/step - loss: 0.0034 - accuracy: 0.9991 - val_loss: 0.1120 - val_accuracy: 0.9727\n",
      "Epoch 12/20\n",
      "18/18 [==============================] - 10s 528ms/step - loss: 0.0012 - accuracy: 1.0000 - val_loss: 0.0417 - val_accuracy: 0.9883\n",
      "Epoch 13/20\n",
      "18/18 [==============================] - 10s 539ms/step - loss: 0.0021 - accuracy: 0.9991 - val_loss: 0.0612 - val_accuracy: 0.9844\n",
      "Epoch 14/20\n",
      "18/18 [==============================] - 10s 530ms/step - loss: 0.0016 - accuracy: 0.9996 - val_loss: 0.0731 - val_accuracy: 0.9883\n",
      "Epoch 15/20\n",
      "18/18 [==============================] - 9s 518ms/step - loss: 0.0013 - accuracy: 0.9996 - val_loss: 0.0501 - val_accuracy: 0.9863\n",
      "Epoch 16/20\n",
      "18/18 [==============================] - 10s 521ms/step - loss: 0.0017 - accuracy: 1.0000 - val_loss: 0.0375 - val_accuracy: 0.9922\n",
      "Epoch 17/20\n",
      "18/18 [==============================] - 9s 519ms/step - loss: 0.0029 - accuracy: 0.9991 - val_loss: 0.0639 - val_accuracy: 0.9902\n",
      "Epoch 18/20\n",
      "18/18 [==============================] - 11s 587ms/step - loss: 0.0014 - accuracy: 0.9996 - val_loss: 0.0608 - val_accuracy: 0.9922\n",
      "Epoch 19/20\n",
      "18/18 [==============================] - 10s 531ms/step - loss: 4.8394e-04 - accuracy: 1.0000 - val_loss: 0.0670 - val_accuracy: 0.9902\n",
      "Epoch 20/20\n",
      "18/18 [==============================] - 10s 531ms/step - loss: 2.7377e-04 - accuracy: 1.0000 - val_loss: 0.0457 - val_accuracy: 0.9902\n"
     ]
    },
    {
     "data": {
      "text/plain": [
       "<keras.src.callbacks.History at 0x156b2336fa0>"
      ]
     },
     "execution_count": 24,
     "metadata": {},
     "output_type": "execute_result"
    }
   ],
   "source": [
    "model.fit(\n",
    "    train_gen,\n",
    "    steps_per_epoch=train_gen.samples // batch_size,\n",
    "    epochs=20,\n",
    "    validation_data=val_gen,\n",
    "    validation_steps=val_gen.samples // batch_size\n",
    ")"
   ]
  },
  {
   "cell_type": "code",
   "execution_count": 25,
   "id": "5ab404b8-e39e-4013-878a-9b7c1e324119",
   "metadata": {},
   "outputs": [],
   "source": [
    "model.save(\"./output/model_v2.h5\")"
   ]
  }
 ],
 "metadata": {
  "kernelspec": {
   "display_name": "Python 3 (ipykernel)",
   "language": "python",
   "name": "python3"
  },
  "language_info": {
   "codemirror_mode": {
    "name": "ipython",
    "version": 3
   },
   "file_extension": ".py",
   "mimetype": "text/x-python",
   "name": "python",
   "nbconvert_exporter": "python",
   "pygments_lexer": "ipython3",
   "version": "3.8.19"
  }
 },
 "nbformat": 4,
 "nbformat_minor": 5
}
